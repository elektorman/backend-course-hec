{
 "cells": [
  {
   "cell_type": "markdown",
   "id": "9ec38d5d-1500-4886-a521-c209cc5f4939",
   "metadata": {},
   "source": [
    "<h1 style=\"color:red\">Formas de Crear Tuplas</h1>"
   ]
  },
  {
   "cell_type": "code",
   "execution_count": 1,
   "id": "240e6935-78c8-4b7e-a97e-28be54c1872a",
   "metadata": {},
   "outputs": [
    {
     "data": {
      "text/plain": [
       "('Gabriela', 500, 'fruta', 40.5)"
      ]
     },
     "execution_count": 1,
     "metadata": {},
     "output_type": "execute_result"
    }
   ],
   "source": [
    "# Puedes omitir los parentesis y solo indicar la lista de elementos de diferente tipo\n",
    "\n",
    "tupla = \"Gabriela\", 500, \"fruta\", 40.5\n",
    "tupla\n"
   ]
  },
  {
   "cell_type": "markdown",
   "id": "e97b6c0b-426d-4497-b0c1-1a0707d49304",
   "metadata": {},
   "source": [
    "<h2 style=\"color:red\">Crear SETS</h2>\n",
    "\n",
    "- { }"
   ]
  },
  {
   "cell_type": "code",
   "execution_count": 2,
   "id": "ca852219-4fe5-472f-aced-0a3c00248d83",
   "metadata": {},
   "outputs": [
    {
     "data": {
      "text/plain": [
       "{'python'}"
      ]
     },
     "execution_count": 2,
     "metadata": {},
     "output_type": "execute_result"
    }
   ],
   "source": [
    "\n",
    "mi_set = set() # Crea un set vacío\n",
    "\n",
    "#Agrega elemento al set\n",
    "mi_set.add(\"python\")\n",
    "mi_set"
   ]
  },
  {
   "cell_type": "code",
   "execution_count": 5,
   "id": "d5ab67a2-0578-465e-a4c9-7013a58f6bf7",
   "metadata": {},
   "outputs": [
    {
     "data": {
      "text/plain": [
       "{23, 3.1416, 'backend', 'python'}"
      ]
     },
     "execution_count": 5,
     "metadata": {},
     "output_type": "execute_result"
    }
   ],
   "source": [
    "# Modificar un Set\n",
    "mi_set.update((23, \"backend\", 3.1416)) #Debes usar una tupla para modificar un Set\n",
    "mi_set\n"
   ]
  },
  {
   "cell_type": "code",
   "execution_count": 6,
   "id": "4e4f0f09-3bcf-446f-9697-cfffbf1d7242",
   "metadata": {},
   "outputs": [
    {
     "data": {
      "text/plain": [
       "{'basquet', 'box', 'futbol'}"
      ]
     },
     "execution_count": 6,
     "metadata": {},
     "output_type": "execute_result"
    }
   ],
   "source": [
    "# Crear el set directamente\n",
    "\n",
    "mi_set = {\"box\", \"futbol\", \"basquet\"}\n",
    "mi_set"
   ]
  },
  {
   "cell_type": "code",
   "execution_count": null,
   "id": "fc5743e9-122e-4a67-a7f5-0c0613065a87",
   "metadata": {},
   "outputs": [],
   "source": []
  }
 ],
 "metadata": {
  "kernelspec": {
   "display_name": "Python 3 (ipykernel)",
   "language": "python",
   "name": "python3"
  },
  "language_info": {
   "codemirror_mode": {
    "name": "ipython",
    "version": 3
   },
   "file_extension": ".py",
   "mimetype": "text/x-python",
   "name": "python",
   "nbconvert_exporter": "python",
   "pygments_lexer": "ipython3",
   "version": "3.11.5"
  }
 },
 "nbformat": 4,
 "nbformat_minor": 5
}
