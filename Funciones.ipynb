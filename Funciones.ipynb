{
 "cells": [
  {
   "cell_type": "markdown",
   "id": "ef7c2dec-c5d0-4091-b6d2-a75f56105c83",
   "metadata": {},
   "source": [
    "<h2>Funciones</h2>\n",
    "\n",
    "- Una funcion puede recibir otra funcion como parametro\n",
    "- Las funciones tienen una atributo que se llama: .\\_\\_name\\_\\_\n",
    "- Se usa asi nombre_funcion.\\_\\_name\\_\\_"
   ]
  },
  {
   "cell_type": "code",
   "execution_count": 1,
   "id": "5a09fa6c-7af4-4fa7-9cc5-129f11714d35",
   "metadata": {},
   "outputs": [],
   "source": [
    "def plus_ten(numb):\n",
    "    return numb + 10\n",
    "\n",
    "def minus_ten(numb):\n",
    "    return numb - 10\n",
    "\n",
    "#Recibe una funcion 'f' como parametro\n",
    "def otra_funcion(f, numb):\n",
    "    resultado = f(numb)\n",
    "    return resultado\n"
   ]
  },
  {
   "cell_type": "code",
   "execution_count": 2,
   "id": "66e8dff1-0069-4b26-b54d-b9f7b867589e",
   "metadata": {},
   "outputs": [
    {
     "data": {
      "text/plain": [
       "160"
      ]
     },
     "execution_count": 2,
     "metadata": {},
     "output_type": "execute_result"
    }
   ],
   "source": [
    "plus_ten(150)"
   ]
  },
  {
   "cell_type": "code",
   "execution_count": 3,
   "id": "2a145a47-9ff8-46dc-bea0-ab427a5993a7",
   "metadata": {},
   "outputs": [
    {
     "data": {
      "text/plain": [
       "190"
      ]
     },
     "execution_count": 3,
     "metadata": {},
     "output_type": "execute_result"
    }
   ],
   "source": [
    "# Nota que al pasar la funcion como parametro, NO incluimos los parentesis\n",
    "\n",
    "otra_funcion(minus_ten, 200)"
   ]
  },
  {
   "cell_type": "markdown",
   "id": "ab10c36a-35fa-4a7e-9c40-62d4c4025be9",
   "metadata": {},
   "source": [
    "<h2>Funciones Anidadas</h2>\n",
    "\n",
    "- Es una funcion dentro de otra funcion\n",
    "- Las funciones internas son útiles al ejecutar tareas complejas más de una vez dentro de la funcion externa\n",
    "\n",
    "\n",
    "Usos:\n",
    "\n",
    "- Construir nuevas funciones basadas en parametros"
   ]
  },
  {
   "cell_type": "code",
   "execution_count": 5,
   "id": "dd30cb6c-fb58-477b-bbc9-407d2fbf8651",
   "metadata": {},
   "outputs": [],
   "source": [
    "# Ejemplo:\n",
    "\n",
    "def funcion_externa():\n",
    "    def funcion_anidada():\n",
    "        print(\"Funcion Anidada\")\n",
    "    #Nota que regresamos la funcion anidada para poder llamarla\n",
    "    return funcion_anidada\n"
   ]
  },
  {
   "cell_type": "code",
   "execution_count": 6,
   "id": "04496a56-ef8f-4103-b909-b89b720b40ee",
   "metadata": {},
   "outputs": [
    {
     "data": {
      "text/plain": [
       "<function __main__.funcion_externa.<locals>.funcion_anidada()>"
      ]
     },
     "execution_count": 6,
     "metadata": {},
     "output_type": "execute_result"
    }
   ],
   "source": [
    "funcion_externa()"
   ]
  },
  {
   "cell_type": "code",
   "execution_count": 11,
   "id": "be9f6c28-1d9c-4614-b32e-05d4f16848bb",
   "metadata": {},
   "outputs": [
    {
     "data": {
      "text/plain": [
       "<function __main__.funcion_externa.<locals>.funcion_anidada()>"
      ]
     },
     "execution_count": 11,
     "metadata": {},
     "output_type": "execute_result"
    }
   ],
   "source": [
    "# Podemos asignar la funcion a una variable\n",
    "# Nota que 'resultado' hace referencia a funcion_anidada\n",
    "# Por tanto, 'resultado' se puede invocar como si fuera una funcion\n",
    "\n",
    "resultado = funcion_externa()\n",
    "resultado"
   ]
  },
  {
   "cell_type": "code",
   "execution_count": 12,
   "id": "98bad4a8-abf2-4419-8b7c-dc797cf02445",
   "metadata": {},
   "outputs": [
    {
     "name": "stdout",
     "output_type": "stream",
     "text": [
      "Funcion Anidada\n"
     ]
    }
   ],
   "source": [
    "#Podemos ejecutar 'resultado' como si fuera una funcion\n",
    "# Y eso va a imprimir el resultado de la 'funcion_anidada'\n",
    "resultado()"
   ]
  },
  {
   "cell_type": "code",
   "execution_count": 27,
   "id": "93de65bb-e067-47fc-aa88-6e74e649b44b",
   "metadata": {},
   "outputs": [],
   "source": [
    "# Ejemplo 2\n",
    "\n",
    "def logger(func):\n",
    "    def log_func(*args):\n",
    "        print(f\"Ejecutando {func.__name__} con parametros: {args}\") #Obtiene el nombre de la funcion\n",
    "        print( func(*args) ) # Ejecuta la funcion\n",
    "    return log_func\n",
    "\n",
    "def add(x, y):\n",
    "    return x + y\n",
    "\n",
    "def sub(x, y):\n",
    "    return x - y\n"
   ]
  },
  {
   "cell_type": "code",
   "execution_count": 23,
   "id": "0628813f-6f8f-40ac-bf09-1fe70ac7a1eb",
   "metadata": {},
   "outputs": [],
   "source": [
    "add_logger = logger(add)\n",
    "sub_logger = logger(sub)"
   ]
  },
  {
   "cell_type": "code",
   "execution_count": 28,
   "id": "533fed34-0df0-4179-b348-a64d056dd19a",
   "metadata": {},
   "outputs": [
    {
     "data": {
      "text/plain": [
       "<function __main__.logger.<locals>.log_func(*args)>"
      ]
     },
     "execution_count": 28,
     "metadata": {},
     "output_type": "execute_result"
    }
   ],
   "source": [
    "logger(add)"
   ]
  },
  {
   "cell_type": "code",
   "execution_count": 24,
   "id": "41198826-9172-4260-aee1-23fb10895dd5",
   "metadata": {},
   "outputs": [
    {
     "name": "stdout",
     "output_type": "stream",
     "text": [
      "Ejecutando add con parametros: (3, 2)\n",
      "5\n"
     ]
    }
   ],
   "source": [
    "\n",
    "add_logger(3,2)"
   ]
  },
  {
   "cell_type": "code",
   "execution_count": 26,
   "id": "09821a77-bed3-4fdc-ba60-cd5231a37dff",
   "metadata": {},
   "outputs": [
    {
     "name": "stdout",
     "output_type": "stream",
     "text": [
      "Ejecutando sub con parametros: (7, 3)\n",
      "4\n"
     ]
    }
   ],
   "source": [
    "sub_logger(7,3)"
   ]
  },
  {
   "cell_type": "markdown",
   "id": "00114b0e-d933-43bb-97e1-eb9859c17ab5",
   "metadata": {},
   "source": [
    "<h2>Funcion dir</h2>\n",
    "\n",
    "- Muestra todos los atributos de una funcion"
   ]
  },
  {
   "cell_type": "code",
   "execution_count": 29,
   "id": "ee40c51c-1a60-468f-ace6-fe96314b4de4",
   "metadata": {},
   "outputs": [
    {
     "data": {
      "text/plain": [
       "['__annotations__',\n",
       " '__builtins__',\n",
       " '__call__',\n",
       " '__class__',\n",
       " '__closure__',\n",
       " '__code__',\n",
       " '__defaults__',\n",
       " '__delattr__',\n",
       " '__dict__',\n",
       " '__dir__',\n",
       " '__doc__',\n",
       " '__eq__',\n",
       " '__format__',\n",
       " '__ge__',\n",
       " '__get__',\n",
       " '__getattribute__',\n",
       " '__getstate__',\n",
       " '__globals__',\n",
       " '__gt__',\n",
       " '__hash__',\n",
       " '__init__',\n",
       " '__init_subclass__',\n",
       " '__kwdefaults__',\n",
       " '__le__',\n",
       " '__lt__',\n",
       " '__module__',\n",
       " '__name__',\n",
       " '__ne__',\n",
       " '__new__',\n",
       " '__qualname__',\n",
       " '__reduce__',\n",
       " '__reduce_ex__',\n",
       " '__repr__',\n",
       " '__setattr__',\n",
       " '__sizeof__',\n",
       " '__str__',\n",
       " '__subclasshook__']"
      ]
     },
     "execution_count": 29,
     "metadata": {},
     "output_type": "execute_result"
    }
   ],
   "source": [
    "dir(add)"
   ]
  },
  {
   "cell_type": "markdown",
   "id": "34c6e9b7-6bc7-467f-8fe7-fb3f7f07e31c",
   "metadata": {},
   "source": [
    "<h2>Funcion ENUMERATE</h2>\n",
    "\n",
    "- Regresa el indice de cada elemento contenido en una lista (o cualquier iterable) a la par de los elementos como tal"
   ]
  },
  {
   "cell_type": "code",
   "execution_count": 30,
   "id": "40888386-b862-4b09-b17c-202c3695053e",
   "metadata": {},
   "outputs": [
    {
     "name": "stdout",
     "output_type": "stream",
     "text": [
      "Indice: 0 - Lenguaje: Javascript\n",
      "Indice: 1 - Lenguaje: python\n",
      "Indice: 2 - Lenguaje: Go\n",
      "Indice: 3 - Lenguaje: Ruby\n"
     ]
    }
   ],
   "source": [
    "lenguajes = [\"Javascript\",\"python\",\"Go\",\"Ruby\"]\n",
    "\n",
    "for i, elem in enumerate(lenguajes):\n",
    "    print(f\"Indice: {i} - Lenguaje: {elem}\")\n"
   ]
  },
  {
   "cell_type": "code",
   "execution_count": 31,
   "id": "3b3be4d2-8af6-45b2-bec2-af754bcb43cc",
   "metadata": {},
   "outputs": [
    {
     "name": "stdout",
     "output_type": "stream",
     "text": [
      "Indice: 1 - Lenguaje: Javascript\n",
      "Indice: 2 - Lenguaje: python\n",
      "Indice: 3 - Lenguaje: Go\n",
      "Indice: 4 - Lenguaje: Ruby\n"
     ]
    }
   ],
   "source": [
    "#Definiendo explicitamente el incio del indice que queremos\n",
    "\n",
    "lenguajes = [\"Javascript\",\"python\",\"Go\",\"Ruby\"]\n",
    "\n",
    "for i, elem in enumerate(lenguajes, start=1):\n",
    "    print(f\"Indice: {i} - Lenguaje: {elem}\")\n"
   ]
  },
  {
   "cell_type": "markdown",
   "id": "ada6b63a-934b-4e08-8b3b-cdb14ed079c3",
   "metadata": {},
   "source": [
    "<h2>Funcion LAMBDA</h2>\n",
    "\n",
    "- Es una funcion anónima\n",
    "- Puede recibir cualquier cantidad de argumentos pero solo puede tener **UNA EXPRESION**\n",
    "- 'lambda' es una palabra reservada en python, la cual es una función anónima **dentro de otra función**\n",
    "- La ventaja principal **ES USARLA en combianación** con otras built-in functions, como: **map o filter**\n",
    "- Lambda es regresada como valor por otra función (porque es una funcion anidada)"
   ]
  },
  {
   "cell_type": "code",
   "execution_count": 34,
   "id": "32e88e95-9fa0-4ea2-bea7-261f0cc2ccd9",
   "metadata": {},
   "outputs": [],
   "source": [
    "#Lambda: Por cada x (entrada que llegue), regresa la entrada + 10\n",
    "# Para poder usarla, se asigna a una variable\n",
    "# En ese caso, la variable se convierte en la funcion\n",
    "\n",
    "plus_ten = lambda x : x+10"
   ]
  },
  {
   "cell_type": "code",
   "execution_count": 33,
   "id": "49502590-bd7c-4183-aee4-ff3769c937af",
   "metadata": {},
   "outputs": [
    {
     "data": {
      "text/plain": [
       "40"
      ]
     },
     "execution_count": 33,
     "metadata": {},
     "output_type": "execute_result"
    }
   ],
   "source": [
    "plus_ten(30)"
   ]
  },
  {
   "cell_type": "code",
   "execution_count": 35,
   "id": "06583787-a089-46c3-b077-c7261036082c",
   "metadata": {},
   "outputs": [
    {
     "data": {
      "text/plain": [
       "<map at 0x11b9b7160>"
      ]
     },
     "execution_count": 35,
     "metadata": {},
     "output_type": "execute_result"
    }
   ],
   "source": [
    "# La aplicacion real de la lambda function, es usarla con otras funciones como map o filter\n",
    "# MAP(funcion, lista) aplica una funcion a cada uno de los elementos de una lista. \n",
    "\n",
    "la_lista = [10, 50, 140, 200, 700, 16, 18]\n",
    "\n",
    "resultado = map( plus_ten, la_lista )\n",
    "resultado"
   ]
  },
  {
   "cell_type": "code",
   "execution_count": 36,
   "id": "6a4f5cff-a903-4c5a-8719-0775acf79192",
   "metadata": {},
   "outputs": [
    {
     "data": {
      "text/plain": [
       "<map at 0x11b9b6f50>"
      ]
     },
     "execution_count": 36,
     "metadata": {},
     "output_type": "execute_result"
    }
   ],
   "source": [
    "map( plus_ten, la_lista )"
   ]
  },
  {
   "cell_type": "code",
   "execution_count": 37,
   "id": "75db0dcc-7fc8-45a3-a7f5-ad2352d10fa5",
   "metadata": {},
   "outputs": [
    {
     "data": {
      "text/plain": [
       "[20, 60, 150, 210, 710, 26, 28]"
      ]
     },
     "execution_count": 37,
     "metadata": {},
     "output_type": "execute_result"
    }
   ],
   "source": [
    "list(resultado)"
   ]
  },
  {
   "cell_type": "code",
   "execution_count": 38,
   "id": "2118f32b-f978-4b5f-be7f-c5f93202ab42",
   "metadata": {},
   "outputs": [
    {
     "data": {
      "text/plain": [
       "[5.0, 25.0, 70.0, 100.0, 350.0, 8.0, 9.0]"
      ]
     },
     "execution_count": 38,
     "metadata": {},
     "output_type": "execute_result"
    }
   ],
   "source": [
    "resultado = map(lambda x : x/2, la_lista)\n",
    "list(resultado)"
   ]
  }
 ],
 "metadata": {
  "kernelspec": {
   "display_name": "Python 3 (ipykernel)",
   "language": "python",
   "name": "python3"
  },
  "language_info": {
   "codemirror_mode": {
    "name": "ipython",
    "version": 3
   },
   "file_extension": ".py",
   "mimetype": "text/x-python",
   "name": "python",
   "nbconvert_exporter": "python",
   "pygments_lexer": "ipython3",
   "version": "3.11.5"
  }
 },
 "nbformat": 4,
 "nbformat_minor": 5
}
