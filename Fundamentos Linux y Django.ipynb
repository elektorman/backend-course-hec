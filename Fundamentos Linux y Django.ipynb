{
 "cells": [
  {
   "cell_type": "markdown",
   "id": "4f294981-bfeb-4164-b35e-85043c1a8feb",
   "metadata": {},
   "source": [
    "<h2>Comando SSH</h2>\n",
    "\n",
    "- SSH: acrónimo de Secure Shell\n",
    "- Es una manera de acceder a otra computadora\n",
    "\n",
    "\n",
    "Ejemplo de uso del comando SSH:\n",
    "\n",
    "``` \n",
    "ssh -i directory/key.pem user@ipaddress\n",
    "```\n",
    "\n",
    "Vamos a emular la conexion a otra computadora por medio de los CONTENEDORES. Aunque la idea es que en ambientes de Produccion, TODO esté en CONTAINERS"
   ]
  },
  {
   "cell_type": "markdown",
   "id": "b8524f23-805e-49c7-bb81-71be90b3e01a",
   "metadata": {},
   "source": [
    "<h2>Correr Linux en un Container</h2>\n",
    "\n",
    "https://github.com/nickjj/docker-django-example\n",
    "\n",
    "Clonar el Repo y RENOMBRARLO como 'hellodjango':\n",
    "\n",
    "```git clone https://github.com/nickjj/docker-django-example hellodjango```\n",
    "\n",
    "Navegar hasta la carpeta del repo clonado:\n",
    "\n",
    "```cd hellodjango```\n",
    "\n",
    "Dentro de la carpeta del repo, vamos a COPIAR el template de Variables de Ambiente. El .env al final del comando es para Variables de Ambiente. \n",
    "\n",
    "- cp: copy\n",
    "- .env.example: lo que vamos a copiar\n",
    "- .env: Nombre de la carpeta donde vamos a pegar lo que copiamos\n",
    "\n",
    "```cp .env.example .env```\n",
    "\n",
    "Comando para levantar los containers. Toma el archivo 'docker-compose' en el repo. En ese archivo están las configuraciones necesarias.\n",
    "Con este comando se crean los contenedores con la configuración especificada en el file 'docker-compose'\n",
    "\n",
    "```docker compose up --build```\n",
    "\n",
    "\n",
    "Comando para acceder al Container 'hellodjango-web-1'\n",
    "\n",
    "```docker exec -it hellodjango-web-1 bash```\n",
    "\n",
    "\n",
    "Para detener los CONTAINERS\n",
    "\n",
    "```docker compose down```\n"
   ]
  },
  {
   "cell_type": "markdown",
   "id": "fba121e1-905f-4e1a-b890-412cb4f458b0",
   "metadata": {},
   "source": [
    "<h2>Principales carpetas en Linux</h2>\n",
    "\n"
   ]
  },
  {
   "cell_type": "code",
   "execution_count": 4,
   "id": "a7669f55-b449-45c8-b572-c568d063a387",
   "metadata": {},
   "outputs": [],
   "source": [
    "from IPython import display\n",
    "#isplay.Image(\"https://i.stack.imgur.com/3u7dC.jpg\") #Marca error"
   ]
  },
  {
   "cell_type": "markdown",
   "id": "08330880-c770-4cf0-9fcc-73d11edbb3ad",
   "metadata": {},
   "source": [
    "<h2>Comandos Escenciales</h2>\n",
    "\n",
    "- pwd : Print Working Directory. Imprime la RUTA de la carpeta donde estamos parados\n",
    "- ls: list. Lista las carpetas y archivos que existen en la carpeta donde estamos parados\n",
    "- cd: Cange Directory. Cambia de directorio (carpeta)\n",
    "- mkdir: Crear carpteta nueva\n",
    "- touch: Crear archivos dentro de la carpeta donde estás. EJ: touch test_file.py\n",
    "- cp: Copiar (archivos). Se debe completar con el nombre del archivo copiado: cp test_file.py copia.py\n",
    "- mv: Mover o Renombrar.\n",
    "    - Renombrar como 'mi_archivo_renamed.py': mv test_file.py mi_archivo_renamed.py\n",
    "    - Mover de ubicacion el archivo test_file a la carpeta src: **mv test_file.py /app/src/**\n",
    "    - Mover y Renombrar en la misma linea: **mv file.py /app/src/file_renamed.py**\n",
    "- rm: Remove. Eliminar carpetas o archivos.\n",
    "    - Eliminar archivo: rm file.py\n",
    "    - Eliminar Carpeta. Se debe agregar el comando **-r** (de recursive) para eliinar el contenido de la carpeta : **rm -r carpeta**\n",
    "- open . : (open espacio punto) Abre el Finder en la carpeta donde estas parado"
   ]
  },
  {
   "cell_type": "markdown",
   "id": "03cc7b98-da50-4cc0-ac1e-88fb8d22c705",
   "metadata": {},
   "source": [
    "<h2 style=\"color:red\">Django</h2>"
   ]
  },
  {
   "cell_type": "markdown",
   "id": "9cde7e3d-4687-4c50-94ac-93bbdea85a44",
   "metadata": {},
   "source": [
    "### Migraciones\n",
    "\n",
    "Vamos a entender las migraciones como: los cambios a la base de datos. Son arhivos que van a concentrar todos los cambios que se hagan en bases de datos\n",
    "\n",
    "El comando de abajo va a ejecutar todas las migraciones para correr todos los cambios en la base de datos.\n",
    "\n",
    "En este proyecto, las migraciones se ejecutan con:\n",
    "\n",
    "```./run mange migrate```\n",
    "\n",
    "Pero la forma estandar es:\n",
    "\n",
    "```python manage.py migrate```\n",
    "\n",
    "Pero es basicamente decir: Del archivo 'manage' manda llamar las migraciones"
   ]
  },
  {
   "cell_type": "markdown",
   "id": "792641e0-b9d4-436d-9429-005a5db1dfbc",
   "metadata": {},
   "source": [
    "<h2 style=\"color:red\">Estructura de un proyecto en Django</h2>"
   ]
  },
  {
   "cell_type": "markdown",
   "id": "3ab4201c-1262-4f2e-85a7-522f53673b8e",
   "metadata": {},
   "source": [
    "<h3 style=\"color:purple\">Archivos de Proyecto</h3>\n",
    "\n",
    "- manage.py: Es un archivo que contiene muchas funciones que te permiten interactuar con Django\n",
    "- config/ \\_\\_init\\_\\_.py : Es un archivo vacío que le informa a python que esta carpeta debería ser considerada como un **paquete de python**\n",
    "- config/settings.py: Alamacena la configuración para el proyecto en django\n",
    "- config/urls.py : Guarda las declaraciones de las URLs para el proyecto django. Es como una tabla de contenidos con los **endpoints** del sitio web\n",
    "- config/asgi.py : Es un punto de entrada para servidores web compatibles con ASGI para desplegar el proyecto\n",
    "- config/wsgi.py : Es un punto de entrada para servidores web compatibles con WSGI para desplegar el proyecto"
   ]
  },
  {
   "cell_type": "markdown",
   "id": "8acec6d0-10ab-4966-8bc8-2131816812a4",
   "metadata": {},
   "source": [
    "<h3 style=\"color:purple\">Archivos de Aplicacion</h3>\n",
    "\n",
    "- admin.py: Para registrar tus modelos relacionados con el django admin\n",
    "- apps.py : contiene el codigo de la configuración de la app\n",
    "- models.py : Aqui se definen los modelos. Son las tablas en la base de datos para almacenar la informacion y definir sus relaciones\n",
    "- tests.py : Aqui escribimos tests para la app\n",
    "- views.py : Se usa para definir la información que será mandada a los templates del fornt-end"
   ]
  },
  {
   "cell_type": "markdown",
   "id": "9702a97b-2260-4b19-a6a9-4145003be27b",
   "metadata": {},
   "source": [
    "<h2>Primeros cambios visibles en el proyecto</h2>"
   ]
  },
  {
   "cell_type": "code",
   "execution_count": null,
   "id": "80a9c619-3f1f-4dcb-adf3-58661e2901d5",
   "metadata": {},
   "outputs": [],
   "source": []
  },
  {
   "cell_type": "code",
   "execution_count": null,
   "id": "34adbb4f-3071-4f87-9b50-05617a29ec3d",
   "metadata": {},
   "outputs": [],
   "source": []
  },
  {
   "cell_type": "code",
   "execution_count": null,
   "id": "e0ac64f1-bf20-4682-9b94-3ad3ef2503ea",
   "metadata": {},
   "outputs": [],
   "source": []
  },
  {
   "cell_type": "code",
   "execution_count": null,
   "id": "b916cc96-9144-47ed-82d0-ddb15905864d",
   "metadata": {},
   "outputs": [],
   "source": []
  },
  {
   "cell_type": "code",
   "execution_count": null,
   "id": "b05bda60-1a54-4b38-b478-34b2f5332ba0",
   "metadata": {},
   "outputs": [],
   "source": []
  },
  {
   "cell_type": "code",
   "execution_count": null,
   "id": "da71a2ab-3e2e-4317-bcdf-a8c2054caf81",
   "metadata": {},
   "outputs": [],
   "source": []
  },
  {
   "cell_type": "code",
   "execution_count": null,
   "id": "650f3814-bfa8-4c38-aaa3-e1ed89074ed2",
   "metadata": {},
   "outputs": [],
   "source": []
  }
 ],
 "metadata": {
  "kernelspec": {
   "display_name": "Python 3 (ipykernel)",
   "language": "python",
   "name": "python3"
  },
  "language_info": {
   "codemirror_mode": {
    "name": "ipython",
    "version": 3
   },
   "file_extension": ".py",
   "mimetype": "text/x-python",
   "name": "python",
   "nbconvert_exporter": "python",
   "pygments_lexer": "ipython3",
   "version": "3.11.5"
  }
 },
 "nbformat": 4,
 "nbformat_minor": 5
}
