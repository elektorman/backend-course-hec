{
 "cells": [
  {
   "cell_type": "markdown",
   "id": "10506cae-fb77-4b60-9302-d610d77f882e",
   "metadata": {},
   "source": [
    "## For\n",
    "\n",
    "- Puede iterar sobre: listas, tuplas, diccionarios, sets, strings"
   ]
  },
  {
   "cell_type": "code",
   "execution_count": 1,
   "id": "38313396-8fe4-4116-949a-9c4fdb1febcf",
   "metadata": {},
   "outputs": [
    {
     "name": "stdout",
     "output_type": "stream",
     "text": [
      " 2 \n",
      " 4 \n",
      " 6 \n",
      " 8 \n",
      " 10 \n",
      " 12 \n"
     ]
    }
   ],
   "source": [
    "# Iterando sobre Lista\n",
    "\n",
    "la_lista = [2,4,6,8,10,12]\n",
    "\n",
    "for i in la_lista:\n",
    "    print(f\"\"\" {i} \"\"\")"
   ]
  },
  {
   "cell_type": "code",
   "execution_count": 3,
   "id": "a0d77c1b-b82d-48b7-831b-4b140b19aacd",
   "metadata": {},
   "outputs": [
    {
     "name": "stdout",
     "output_type": "stream",
     "text": [
      "1\n",
      "2\n",
      "3\n",
      "4\n",
      "5\n",
      "6\n",
      "7\n",
      "8\n",
      "9\n"
     ]
    }
   ],
   "source": [
    "# Iteranso sobre RANGO\n",
    "\n",
    "for i in range(1,10):\n",
    "    print(f\"{i}\")"
   ]
  },
  {
   "cell_type": "markdown",
   "id": "13501411-be4f-4b68-b312-f9ff90c8fbaf",
   "metadata": {},
   "source": [
    "<h2>Ciclo For Anidado</h2>\n",
    "\n",
    "- Ciclo principal\n",
    "    - Ciclo anidado"
   ]
  },
  {
   "cell_type": "code",
   "execution_count": 4,
   "id": "0b5b6c28-5e88-476e-8a0a-d23dcf28cc47",
   "metadata": {},
   "outputs": [
    {
     "name": "stdout",
     "output_type": "stream",
     "text": [
      "balon - pequeño\n",
      "balon - grande\n",
      "balon - redondo\n",
      "balon - cuadrado\n",
      "balon - rojo\n",
      "balon - azul\n",
      "bote - pequeño\n",
      "bote - grande\n",
      "bote - redondo\n",
      "bote - cuadrado\n",
      "bote - rojo\n",
      "bote - azul\n",
      "celular - pequeño\n",
      "celular - grande\n",
      "celular - redondo\n",
      "celular - cuadrado\n",
      "celular - rojo\n",
      "celular - azul\n",
      "libro - pequeño\n",
      "libro - grande\n",
      "libro - redondo\n",
      "libro - cuadrado\n",
      "libro - rojo\n",
      "libro - azul\n"
     ]
    }
   ],
   "source": [
    "nouns = [\"balon\", \"bote\",\"celular\",\"libro\"]\n",
    "adjectives = [\"pequeño\",\"grande\",\"redondo\",\"cuadrado\",\"rojo\",\"azul\"]\n",
    "\n",
    "for i in nouns:\n",
    "    for j in adjectives:\n",
    "        print(f\"{i} - {j}\")\n"
   ]
  },
  {
   "cell_type": "markdown",
   "id": "9c2b16f8-fcb9-4b1d-bae6-177aca58e0f0",
   "metadata": {},
   "source": [
    "<h2>Iterando sobre Diccionarios</h2>\n",
    "\n",
    "- La funcion ZIP() permite combinar 2 listas. Lo que pongas primero en ZIP, lo va poner como keys"
   ]
  },
  {
   "cell_type": "code",
   "execution_count": 5,
   "id": "9e11ddd4-3c22-4dd2-a26a-73a238adf2c7",
   "metadata": {},
   "outputs": [
    {
     "data": {
      "text/plain": [
       "{20: 'maria@test.com', 30: 'carlos@test.com', 40: 'gaby@test.com'}"
      ]
     },
     "execution_count": 5,
     "metadata": {},
     "output_type": "execute_result"
    }
   ],
   "source": [
    "correos = [\"maria@test.com\", \"carlos@test.com\", \"gaby@test.com\"]\n",
    "user_ids = [20,30,40]\n",
    "\n",
    "#Combinando las 2 listas para formar un diccionario\n",
    "diccionario = dict( zip(user_ids, correos) )\n",
    "diccionario"
   ]
  },
  {
   "cell_type": "code",
   "execution_count": 7,
   "id": "8644d64a-7bf1-47fb-833b-491b0ba30f29",
   "metadata": {},
   "outputs": [
    {
     "name": "stdout",
     "output_type": "stream",
     "text": [
      "user: 20 - correo: maria@test.com \n",
      "user: 30 - correo: carlos@test.com \n",
      "user: 40 - correo: gaby@test.com \n"
     ]
    }
   ],
   "source": [
    "# Iterando sobre Diccionario\n",
    "# items() obtiene las keys y los values al mismo tiempo\n",
    "\n",
    "for id, correo in diccionario.items():\n",
    "    print(f\"user: {id} - correo: {correo} \")"
   ]
  },
  {
   "cell_type": "markdown",
   "id": "c5db6df5-4860-4392-8a39-2cc492e229fc",
   "metadata": {},
   "source": [
    "<h2>Declaraciones Especiales</h2>\n",
    "\n",
    "- **break**: Detiene la ejecucion del ciclo\n",
    "- **continue**: Se salta la iteracion actual. NO ejecuta el codigo siguiente y pasa a la siguiente iteracion\n",
    "- **pass**: se usa para escribir ciclos vacios o para escribir funciones o clases vacías"
   ]
  },
  {
   "cell_type": "code",
   "execution_count": 11,
   "id": "f8bb4311-d4bb-43e0-82cf-0245f5ea0ef3",
   "metadata": {},
   "outputs": [
    {
     "name": "stdout",
     "output_type": "stream",
     "text": [
      "Numero =  0\n",
      "Fin de ejecucion\n"
     ]
    }
   ],
   "source": [
    "# BREAK\n",
    "\n",
    "numero = 0\n",
    "past_number = None\n",
    "\n",
    "while numero < 5:\n",
    "    if past_number == numero:\n",
    "        break\n",
    "    print(\"Numero = \", numero)\n",
    "    past_number = numero\n",
    "print(\"Fin de ejecucion\")\n"
   ]
  },
  {
   "cell_type": "code",
   "execution_count": 16,
   "id": "07d5eed7-6018-4303-b677-3a54e2161df7",
   "metadata": {},
   "outputs": [
    {
     "name": "stdout",
     "output_type": "stream",
     "text": [
      "Numero =  0\n",
      "Numero =  1\n",
      "Numero =  2\n",
      "Numero =  3\n",
      "Fin de ejecucion\n"
     ]
    }
   ],
   "source": [
    "# CONTINUE\n",
    "# NO termina la ejecucion, solo se salta la iteracion actual\n",
    "\n",
    "numero = 0\n",
    "past_number = None\n",
    "\n",
    "while numero < 5:\n",
    "    if past_number == 3:\n",
    "        numero += 1\n",
    "        continue # Ignora el resto del codigo y salta a la siguiente iteracion\n",
    "    print(\"Numero = \", numero)\n",
    "    past_number = numero\n",
    "    numero += 1\n",
    "print(\"Fin de ejecucion\")\n"
   ]
  },
  {
   "cell_type": "code",
   "execution_count": 18,
   "id": "7229090c-b345-47c0-bb7e-92c5efc32695",
   "metadata": {},
   "outputs": [
    {
     "name": "stdout",
     "output_type": "stream",
     "text": [
      "Iteracion 1\n",
      "Iteracion 2\n",
      "Iteracion 3\n",
      "Iteracion 4\n",
      "Iteracion 5\n",
      "Iteracion 6\n",
      "Iteracion 7\n",
      "Iteracion 8\n",
      "Iteracion 9\n",
      "Iteracion 11\n",
      "Iteracion 12\n",
      "Iteracion 13\n",
      "Iteracion 14\n",
      "Iteracion 15\n",
      "Iteracion 16\n",
      "Iteracion 17\n",
      "Iteracion 18\n",
      "Iteracion 19\n"
     ]
    }
   ],
   "source": [
    "for i in range(1,20):\n",
    "    if i ==10:\n",
    "        continue\n",
    "    print(f\"Iteracion {i}\")"
   ]
  },
  {
   "cell_type": "code",
   "execution_count": 20,
   "id": "46e9a4cd-10d7-43b0-a3ca-123d7f9fff96",
   "metadata": {},
   "outputs": [
    {
     "name": "stdout",
     "output_type": "stream",
     "text": [
      "Iteracion 1\n",
      "Iteracion 2\n",
      "Iteracion 3\n",
      "Iteracion 4\n",
      "Iteracion 5\n",
      "Iteracion 6\n",
      "Iteracion 7\n",
      "Iteracion 8\n",
      "Iteracion 9\n",
      "Iteracion 10\n"
     ]
    }
   ],
   "source": [
    "# PASS\n",
    "# Escribir funciones o clases vacías\n",
    "# Permite la continuidad en la ejecucion del codigo sin generar error\n",
    "\n",
    "for i in range(1,11):\n",
    "    if i == 5:\n",
    "        # Pendiente: Agregar comprtamiento cuando i llegue a 5\n",
    "        pass #Permite la ejecucion del resto del codigo\n",
    "    print(f\"Iteracion {i}\")\n"
   ]
  },
  {
   "cell_type": "code",
   "execution_count": 21,
   "id": "2bfbff79-2903-4c74-998d-b6e7653b3bf5",
   "metadata": {},
   "outputs": [],
   "source": [
    "# Con Funciones\n",
    "\n",
    "def mi_funcion():\n",
    "    #Pendiente: Agregar codigo de la funcion\n",
    "    pass\n",
    "\n",
    "\n",
    "mi_funcion() #Cuando se invoa, no genera error"
   ]
  },
  {
   "cell_type": "code",
   "execution_count": null,
   "id": "39f17776-1fb6-451a-8c66-65cc172afbb8",
   "metadata": {},
   "outputs": [],
   "source": []
  },
  {
   "cell_type": "code",
   "execution_count": null,
   "id": "4fc0b9e3-302b-426d-b2c7-91fd40fc98dd",
   "metadata": {},
   "outputs": [],
   "source": []
  },
  {
   "cell_type": "code",
   "execution_count": null,
   "id": "65632140-1e82-4efb-8717-e8ddac8c3ab3",
   "metadata": {},
   "outputs": [],
   "source": []
  },
  {
   "cell_type": "code",
   "execution_count": null,
   "id": "121ff970-2fb4-476b-9e05-b1249628a73e",
   "metadata": {},
   "outputs": [],
   "source": []
  },
  {
   "cell_type": "code",
   "execution_count": null,
   "id": "8d6f511b-6ab2-44d4-a230-eee40b5adab3",
   "metadata": {},
   "outputs": [],
   "source": []
  }
 ],
 "metadata": {
  "kernelspec": {
   "display_name": "Python 3 (ipykernel)",
   "language": "python",
   "name": "python3"
  },
  "language_info": {
   "codemirror_mode": {
    "name": "ipython",
    "version": 3
   },
   "file_extension": ".py",
   "mimetype": "text/x-python",
   "name": "python",
   "nbconvert_exporter": "python",
   "pygments_lexer": "ipython3",
   "version": "3.11.5"
  }
 },
 "nbformat": 4,
 "nbformat_minor": 5
}
