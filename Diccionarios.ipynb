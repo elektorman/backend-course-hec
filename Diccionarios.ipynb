{
 "cells": [
  {
   "cell_type": "code",
   "execution_count": 1,
   "id": "4a3cbee2-6947-453d-8f51-260cabd77f3b",
   "metadata": {},
   "outputs": [
    {
     "data": {
      "text/plain": [
       "{}"
      ]
     },
     "execution_count": 1,
     "metadata": {},
     "output_type": "execute_result"
    }
   ],
   "source": [
    "# Forma basica de crear un diccionario\n",
    "\n",
    "diccionario = dict() # Crea un diccionario vacio\n",
    "diccionario"
   ]
  },
  {
   "cell_type": "code",
   "execution_count": 2,
   "id": "412f2e79-c2fa-442a-b73a-15ba61191626",
   "metadata": {},
   "outputs": [
    {
     "data": {
      "text/plain": [
       "{1: 'uno', 2: 'dos', 3: 'tres', 4: 'cuatro'}"
      ]
     },
     "execution_count": 2,
     "metadata": {},
     "output_type": "execute_result"
    }
   ],
   "source": [
    "# \n",
    "\n",
    "diccionario = {\n",
    "    1:\"uno\",\n",
    "    2:\"dos\",\n",
    "    3:\"tres\",\n",
    "    4:\"cuatro\"\n",
    "}\n",
    "diccionario"
   ]
  },
  {
   "cell_type": "code",
   "execution_count": 3,
   "id": "a1a197a3-3a48-4a02-97bb-45fd3a8d1d3a",
   "metadata": {},
   "outputs": [
    {
     "data": {
      "text/plain": [
       "{'cinco': 5, 'seis': 6, 'siete': 7}"
      ]
     },
     "execution_count": 3,
     "metadata": {},
     "output_type": "execute_result"
    }
   ],
   "source": [
    "#\n",
    "\n",
    "diccionario = {\n",
    "    \"cinco\":5,\n",
    "    \"seis\":6,\n",
    "    \"siete\":7\n",
    "}\n",
    "diccionario\n"
   ]
  },
  {
   "cell_type": "code",
   "execution_count": 4,
   "id": "57f8044a-20f6-4446-8d05-dfc51c6bf62b",
   "metadata": {},
   "outputs": [
    {
     "data": {
      "text/plain": [
       "{'nombre': 'gabirela', 'edad': 44, 'rol': 'developer'}"
      ]
     },
     "execution_count": 4,
     "metadata": {},
     "output_type": "execute_result"
    }
   ],
   "source": [
    "#\n",
    "\n",
    "diccionario = {\n",
    "    \"nombre\":\"gabirela\",\n",
    "    \"edad\": 44,\n",
    "    \"rol\": \"developer\"\n",
    "}\n",
    "diccionario"
   ]
  },
  {
   "cell_type": "code",
   "execution_count": 6,
   "id": "da797fde-a6c9-4a76-a37d-90db9b9ba8b7",
   "metadata": {},
   "outputs": [
    {
     "data": {
      "text/plain": [
       "{'uno': 1, 'dos': 2, 'tres': 3, 'cuatro': 4}"
      ]
     },
     "execution_count": 6,
     "metadata": {},
     "output_type": "execute_result"
    }
   ],
   "source": [
    "# Usando la funcion dict()\n",
    "\n",
    "diccionario = dict(uno=1, dos=2, tres=3, cuatro=4)\n",
    "diccionario"
   ]
  },
  {
   "cell_type": "code",
   "execution_count": 7,
   "id": "7a2fe11a-0d8a-4c6f-acd3-e83123be0174",
   "metadata": {},
   "outputs": [
    {
     "data": {
      "text/plain": [
       "{'siete': 7, 'ocho': 8, 'nueve': 9}"
      ]
     },
     "execution_count": 7,
     "metadata": {},
     "output_type": "execute_result"
    }
   ],
   "source": [
    "# Usando Tuplas envueltas en una lista (lista de Tuplas)\n",
    "# Cada Tupla debe corresponder a un par 'clave:valor'\n",
    "\n",
    "diccionario = dict( [(\"siete\", 7), (\"ocho\",8), (\"nueve\", 9)] )\n",
    "diccionario"
   ]
  },
  {
   "cell_type": "markdown",
   "id": "e79cbd51-c44d-4f44-a029-bf83a644aec5",
   "metadata": {},
   "source": [
    "<h2 style = \"color:red\">Actualizacion de Diccionarios</h2>\n",
    "<h4 style=\"color:blue\">UPDATE()</h4>\n",
    "\n",
    "- Agrega elementos a un diccionario (conserva elementos originales)"
   ]
  },
  {
   "cell_type": "code",
   "execution_count": 9,
   "id": "81256d13-9f32-4974-859f-1cbf6eeb4797",
   "metadata": {},
   "outputs": [],
   "source": [
    "diccionario = {\n",
    "    1:\"uno\",\n",
    "    2:\"dos\",\n",
    "    3:\"tres\",\n",
    "    4:\"cuatro\"\n",
    "}\n"
   ]
  },
  {
   "cell_type": "code",
   "execution_count": 11,
   "id": "3523c161-c10e-46e9-ae85-9c3f1cfc405c",
   "metadata": {},
   "outputs": [
    {
     "data": {
      "text/plain": [
       "{1: 'uno', 2: 'dos', 3: 'tres', 4: 'cuatro', 5: 'cinco', 6: 'seis'}"
      ]
     },
     "execution_count": 11,
     "metadata": {},
     "output_type": "execute_result"
    }
   ],
   "source": [
    "diccionario.update({5:\"cinco\", 6:\"seis\"})\n",
    "\n",
    "diccionario"
   ]
  },
  {
   "cell_type": "code",
   "execution_count": 13,
   "id": "ad6e1de8-bcd0-4995-91e5-2e7411039f9a",
   "metadata": {},
   "outputs": [
    {
     "data": {
      "text/plain": [
       "{1: 'uno', 2: 'dos', 3: 'tres', 4: 784, 5: 'cinco', 6: 'seis'}"
      ]
     },
     "execution_count": 13,
     "metadata": {},
     "output_type": "execute_result"
    }
   ],
   "source": [
    "# Modificacion directa del diccionario por ASIGNACION\n",
    "\n",
    "diccionario[4] = 784\n",
    "diccionario"
   ]
  },
  {
   "cell_type": "code",
   "execution_count": 18,
   "id": "090815d5-8928-4063-a6a6-178686f46d4c",
   "metadata": {},
   "outputs": [
    {
     "data": {
      "text/plain": [
       "'cuatro'"
      ]
     },
     "execution_count": 18,
     "metadata": {},
     "output_type": "execute_result"
    }
   ],
   "source": [
    "diccionario = {\n",
    "    1:\"uno\",\n",
    "    2:\"dos\",\n",
    "    3:\"tres\",\n",
    "    4:\"cuatro\"\n",
    "}\n",
    "\n",
    "diccionario[4]"
   ]
  },
  {
   "cell_type": "markdown",
   "id": "99cea825-5d36-479a-bd85-40bde4397bf9",
   "metadata": {},
   "source": [
    "<h2 style=\"color:red\">COPY</h2>"
   ]
  },
  {
   "cell_type": "code",
   "execution_count": 12,
   "id": "857d1f52-dff4-489c-b1fd-33f53c7473fc",
   "metadata": {},
   "outputs": [
    {
     "data": {
      "text/plain": [
       "{'HP': 11999, 'Apple': 20000, 'Acer': 6500, 'Lenonvo': 10400}"
      ]
     },
     "execution_count": 12,
     "metadata": {},
     "output_type": "execute_result"
    }
   ],
   "source": [
    "compus = {\n",
    "    \"HP\":11999,\n",
    "    \"Apple\":20000,\n",
    "    \"Acer\":6500,\n",
    "    \"Lenonvo\":10400,\n",
    "}\n",
    "\n",
    "compus_copia = compus.copy()\n",
    "compus_copia"
   ]
  },
  {
   "cell_type": "markdown",
   "id": "b263e27b-6ea7-4c82-be1d-e558853970d6",
   "metadata": {},
   "source": [
    "<h2 style=\"color:red\">Obtener Keys de Diccionario</h2>\n",
    "<h4 style=\"color:blue\">keys()</h4>"
   ]
  },
  {
   "cell_type": "code",
   "execution_count": 14,
   "id": "d302dc5c-005e-4243-a4c8-f360a26d2f09",
   "metadata": {},
   "outputs": [
    {
     "data": {
      "text/plain": [
       "dict_keys(['HP', 'Apple', 'Acer', 'Lenonvo'])"
      ]
     },
     "execution_count": 14,
     "metadata": {},
     "output_type": "execute_result"
    }
   ],
   "source": [
    "compus = {\n",
    "    \"HP\":11999,\n",
    "    \"Apple\":20000,\n",
    "    \"Acer\":6500,\n",
    "    \"Lenonvo\":10400,\n",
    "}\n",
    "\n",
    "compus.keys()"
   ]
  },
  {
   "cell_type": "markdown",
   "id": "a68bd57f-01af-484c-91ec-b2eee158bc24",
   "metadata": {},
   "source": [
    "<h2 style=\"color:red\">Obtener Keys con su Valor</h2>"
   ]
  },
  {
   "cell_type": "code",
   "execution_count": 20,
   "id": "6dca7cef-6c01-452b-adc9-3b6beff450e7",
   "metadata": {},
   "outputs": [
    {
     "name": "stdout",
     "output_type": "stream",
     "text": [
      "HP:11999\n",
      "Apple:20000\n",
      "Acer:6500\n",
      "Lenonvo:10400\n"
     ]
    }
   ],
   "source": [
    "compus = {\n",
    "    \"HP\":11999,\n",
    "    \"Apple\":20000,\n",
    "    \"Acer\":6500,\n",
    "    \"Lenonvo\":10400,\n",
    "}\n",
    "\n",
    "# Por medio de Iteracion\n",
    "for i in compus.keys():\n",
    "    print(\"{}:{}\".format(i, compus[i]))"
   ]
  },
  {
   "cell_type": "markdown",
   "id": "afd51d50-136f-4375-a661-070914402f6b",
   "metadata": {},
   "source": [
    "<h2 style=\"color:red\">Obtener Values</h2>\n",
    "<h4 style=\"color:blue\">values()</h4>\n"
   ]
  },
  {
   "cell_type": "code",
   "execution_count": 23,
   "id": "c9d581cf-5c8a-4854-9eb3-c25013e3245d",
   "metadata": {},
   "outputs": [
    {
     "data": {
      "text/plain": [
       "dict_values([11999, 20000, 6500, 10400])"
      ]
     },
     "execution_count": 23,
     "metadata": {},
     "output_type": "execute_result"
    }
   ],
   "source": [
    "compus = {\n",
    "    \"HP\":11999,\n",
    "    \"Apple\":20000,\n",
    "    \"Acer\":6500,\n",
    "    \"Lenonvo\":10400,\n",
    "}\n",
    "\n",
    "compus.values()"
   ]
  },
  {
   "cell_type": "markdown",
   "id": "00eb61e8-6b73-41a9-bb18-098f22b742d6",
   "metadata": {},
   "source": [
    "<h2 style=\"color:red\">Consultar Keys y Values al mismo tiempo</h2>\n",
    "<h4 style=\"color:blue\">items() : regresa los pares 'clave-valor' en forma de tuplas</h4>"
   ]
  },
  {
   "cell_type": "code",
   "execution_count": 28,
   "id": "65415868-6ff9-4231-abe0-f1ca86b90e8c",
   "metadata": {},
   "outputs": [
    {
     "data": {
      "text/plain": [
       "dict_items([('HP', 11999), ('Apple', 20000), ('Acer', 6500), ('Lenonvo', 10400)])"
      ]
     },
     "execution_count": 28,
     "metadata": {},
     "output_type": "execute_result"
    }
   ],
   "source": [
    "compus = {\n",
    "    \"HP\":11999,\n",
    "    \"Apple\":20000,\n",
    "    \"Acer\":6500,\n",
    "    \"Lenonvo\":10400,\n",
    "}\n",
    "\n",
    "compus.items()"
   ]
  },
  {
   "cell_type": "code",
   "execution_count": 29,
   "id": "e9365de7-fd53-41a2-9cef-be271c4632d1",
   "metadata": {},
   "outputs": [
    {
     "name": "stdout",
     "output_type": "stream",
     "text": [
      "HP - 11999\n",
      "Apple - 20000\n",
      "Acer - 6500\n",
      "Lenonvo - 10400\n"
     ]
    }
   ],
   "source": [
    "# Por medio de iteracion\n",
    "\n",
    "for k, v in compus.items():\n",
    "    print(\"{} - {}\".format(k, v) )\n"
   ]
  },
  {
   "cell_type": "markdown",
   "id": "4cce1181-4392-46aa-bd63-dad503d189f5",
   "metadata": {},
   "source": [
    "<h2 style=\"color:red\">Eleiminar Elementos: CLREAR()</h2>"
   ]
  },
  {
   "cell_type": "code",
   "execution_count": 1,
   "id": "2c5eaaa5-b756-4c6c-ba3a-107c313ceb05",
   "metadata": {},
   "outputs": [
    {
     "name": "stdout",
     "output_type": "stream",
     "text": [
      "{}\n"
     ]
    }
   ],
   "source": [
    "laptops = {\n",
    "    \"HP\":11999,\n",
    "    \"Apple\":20000,\n",
    "    \"Acer\":6500,\n",
    "    \"Lenonvo\":10400,\n",
    "}\n",
    "\n",
    "#Elimina TODOS los elementos\n",
    "laptops.clear()\n",
    "print(laptops)"
   ]
  },
  {
   "cell_type": "markdown",
   "id": "c07fa4c2-a4e6-4acb-ba41-d1605b1f908f",
   "metadata": {},
   "source": [
    "<h2 style=\"color:red\">Crear Nuevo Dict</h2>\n",
    "<h4 style=\"color:blue\">FROMKEYS() : A partir de las keys de otro Dict</h4>"
   ]
  },
  {
   "cell_type": "code",
   "execution_count": 3,
   "id": "77dc1bfb-c970-4071-8d4e-8f412ab44f00",
   "metadata": {},
   "outputs": [
    {
     "data": {
      "text/plain": [
       "{'HP': 'Marca', 'Apple': 'Marca', 'Acer': 'Marca', 'Lenonvo': 'Marca'}"
      ]
     },
     "execution_count": 3,
     "metadata": {},
     "output_type": "execute_result"
    }
   ],
   "source": [
    "laptops = {\n",
    "    \"HP\":11999,\n",
    "    \"Apple\":20000,\n",
    "    \"Acer\":6500,\n",
    "    \"Lenonvo\":10400,\n",
    "}\n",
    "\n",
    "nuevo_dict = dict.fromkeys(laptops, \"Marca\")\n",
    "nuevo_dict"
   ]
  },
  {
   "cell_type": "markdown",
   "id": "c4117e67-9d24-430d-97e8-3983de72c4cd",
   "metadata": {},
   "source": [
    "<h2 style=\"color:red\">Obtener Values (Solo consulta)</h2>\n",
    "<h4 style=\"color:blue\">GET()</h4>\n",
    "\n",
    "- Regresa el valor de una Key y permite configurar un valor por default"
   ]
  },
  {
   "cell_type": "code",
   "execution_count": 5,
   "id": "2495fc28-3cf1-443f-967d-f745ecae1398",
   "metadata": {},
   "outputs": [
    {
     "data": {
      "text/plain": [
       "20000"
      ]
     },
     "execution_count": 5,
     "metadata": {},
     "output_type": "execute_result"
    }
   ],
   "source": [
    "laptops = {\n",
    "    \"HP\":11999,\n",
    "    \"Apple\":20000,\n",
    "    \"Acer\":6500,\n",
    "    \"Lenonvo\":10400,\n",
    "}\n",
    "\n",
    "laptops.get(\"Apple\") #Con .get() no marca error en caso de que la Key solicitada NO exista"
   ]
  },
  {
   "cell_type": "code",
   "execution_count": 10,
   "id": "5b0d0722-1373-4ca1-a3c6-20bb1c8f4061",
   "metadata": {},
   "outputs": [
    {
     "name": "stdout",
     "output_type": "stream",
     "text": [
      "0\n",
      "No hay\n"
     ]
    }
   ],
   "source": [
    "laptops = {\n",
    "    \"HP\":11999,\n",
    "    \"Apple\":20000,\n",
    "    \"Acer\":6500,\n",
    "    \"Lenonvo\":10400,\n",
    "}\n",
    "\n",
    "# Obtener value, asignando valor por default (en caso de que no Exista la Key solicitada\n",
    "print(laptops.get(\"Asus\", 0))\n",
    "print(laptops.get(\"Asus\", \"No hay\"))"
   ]
  },
  {
   "cell_type": "markdown",
   "id": "d07d94b3-90cb-4e10-83f5-5826ff7dfce6",
   "metadata": {},
   "source": [
    "<h2 style=\"color:red\">SETDEFAULT()</h2>\n",
    "\n",
    "- Define un valor por default para una Key especifica en caso de **NO** existir en el Dict"
   ]
  },
  {
   "cell_type": "code",
   "execution_count": 13,
   "id": "e8e6bca5-cf13-4681-94c5-e25b9cf1010f",
   "metadata": {},
   "outputs": [
    {
     "name": "stdout",
     "output_type": "stream",
     "text": [
      "20000\n",
      "90000000\n"
     ]
    }
   ],
   "source": [
    "laptops = {\n",
    "    \"HP\":11999,\n",
    "    \"Apple\":20000,\n",
    "    \"Acer\":6500,\n",
    "    \"Lenonvo\":10400,\n",
    "}\n",
    "\n",
    "\n",
    "print(laptops.setdefault(\"Apple\", 5000000))\n",
    "print(laptops.setdefault(\"Patito\", 90000000))"
   ]
  },
  {
   "cell_type": "code",
   "execution_count": null,
   "id": "75ccc1c2-6603-4e1a-9dab-74de2d0ad6a5",
   "metadata": {},
   "outputs": [],
   "source": []
  },
  {
   "cell_type": "code",
   "execution_count": null,
   "id": "9c11b578-31d0-4183-b282-f3beb2c1a9e0",
   "metadata": {},
   "outputs": [],
   "source": []
  },
  {
   "cell_type": "code",
   "execution_count": null,
   "id": "74843861-5e4b-4527-b9b7-ce6ba33e2891",
   "metadata": {},
   "outputs": [],
   "source": []
  }
 ],
 "metadata": {
  "kernelspec": {
   "display_name": "Python 3 (ipykernel)",
   "language": "python",
   "name": "python3"
  },
  "language_info": {
   "codemirror_mode": {
    "name": "ipython",
    "version": 3
   },
   "file_extension": ".py",
   "mimetype": "text/x-python",
   "name": "python",
   "nbconvert_exporter": "python",
   "pygments_lexer": "ipython3",
   "version": "3.11.5"
  }
 },
 "nbformat": 4,
 "nbformat_minor": 5
}
