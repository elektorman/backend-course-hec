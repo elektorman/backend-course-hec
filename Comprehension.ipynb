{
 "cells": [
  {
   "cell_type": "markdown",
   "id": "4549df3c-4c75-4583-81d8-88bc8a7741ac",
   "metadata": {},
   "source": [
    "<h2>Comprehension</h2>\n",
    "\n",
    "- Permite crear una secuencia, como: una lista, diccionario, set o generador a partir de otra seciencia\n",
    "- Crea una secuencia **a partir de otra secuenca (iterables)**\n",
    "- Son mas rápidas que un ciclo for convencional\n",
    "- Se pueden incorporar multiples ciclos for y condicionales fácilmente"
   ]
  },
  {
   "cell_type": "markdown",
   "id": "313491c1-2ec3-4106-a652-16fe34ace308",
   "metadata": {},
   "source": [
    "<h2>List Comprehension</h2>\n",
    "\n",
    "- Crea nuevas listas a partir de **otros iterables**\n",
    "- Se usa con un ciclo for para iterar sobre cada elemento del iterable original\n",
    "- Pueden contener **multiples list comprehension anidadas**"
   ]
  },
  {
   "cell_type": "code",
   "execution_count": 1,
   "id": "7e1e84ab-b36f-401a-96e6-dd4c889c3567",
   "metadata": {},
   "outputs": [
    {
     "data": {
      "text/plain": [
       "[1, 3, 5, 7, 9, 11, 13, 15, 17, 19]"
      ]
     },
     "execution_count": 1,
     "metadata": {},
     "output_type": "execute_result"
    }
   ],
   "source": [
    "# Numeros impares\n",
    "\n",
    "impares = [ i for i in range(20) if i%2==1 ]\n",
    "impares"
   ]
  },
  {
   "cell_type": "code",
   "execution_count": 2,
   "id": "1c4337f2-8b63-453b-aadb-be45b3800768",
   "metadata": {},
   "outputs": [
    {
     "data": {
      "text/plain": [
       "['C', 'u', 'r', 's', 'o', ' ', 'B', 'a', 'c', 'k', 'e', 'n', 'd']"
      ]
     },
     "execution_count": 2,
     "metadata": {},
     "output_type": "execute_result"
    }
   ],
   "source": [
    "# Obtener caracteres de un String\n",
    "\n",
    "cadena = \"Curso Backend\"\n",
    "letras = [i for i in cadena]\n",
    "\n",
    "letras"
   ]
  },
  {
   "cell_type": "markdown",
   "id": "2fb96824-553a-4fe7-bf34-c4797eeefa10",
   "metadata": {},
   "source": [
    "<h2>Dict Comprehension</h2>\n",
    "\n",
    "- Regresa un Diccionario\n",
    "- Operan usando **2 variables**: Key y Value para la iteracion de las listas"
   ]
  },
  {
   "cell_type": "code",
   "execution_count": 9,
   "id": "4e780f69-0be9-49ce-8b96-da31b77d7994",
   "metadata": {},
   "outputs": [
    {
     "data": {
      "text/plain": [
       "{0: 1,\n",
       " 1: 1,\n",
       " 2: 2,\n",
       " 3: 6,\n",
       " 4: 24,\n",
       " 5: 120,\n",
       " 6: 720,\n",
       " 7: 5040,\n",
       " 8: 40320,\n",
       " 9: 362880,\n",
       " 10: 3628800}"
      ]
     },
     "execution_count": 9,
     "metadata": {},
     "output_type": "execute_result"
    }
   ],
   "source": [
    "# Factorial\n",
    "# La i que esta ANTES del separador ':', es la KEY\n",
    "# La expresion despues del separador ':', es el VALUE\n",
    "\n",
    "import math\n",
    "\n",
    "fact = { i : math.factorial(i) for i in range(11) }\n",
    "fact"
   ]
  },
  {
   "cell_type": "markdown",
   "id": "898695bf-e451-47db-9959-5f1bbe83b801",
   "metadata": {},
   "source": [
    "### Podemos usar validaciones por medio de condicionales"
   ]
  },
  {
   "cell_type": "code",
   "execution_count": 11,
   "id": "8b815167-2895-4004-b380-fea651506d34",
   "metadata": {},
   "outputs": [
    {
     "data": {
      "text/plain": [
       "{0: 1, 2: 2, 4: 24, 6: 720, 8: 40320, 10: 3628800}"
      ]
     },
     "execution_count": 11,
     "metadata": {},
     "output_type": "execute_result"
    }
   ],
   "source": [
    "# Factorial de numeros pares\n",
    "\n",
    "import math\n",
    "\n",
    "fact = { i : math.factorial(i) for i in range(11) if i%2 == 0 }\n",
    "fact"
   ]
  },
  {
   "cell_type": "markdown",
   "id": "a16118c5-2310-4d84-b527-25821d14692d",
   "metadata": {},
   "source": [
    "<h2 style = \"color:red\">Pruebas de Afiliacion</h2>\n",
    "\n",
    "- Evaluan la existencia o no existencia de elementos en una secuencia. Por tanto regresan Booleanos\n",
    "- Los operadores de afilicacion son \"in\" y \"not in\" (en minusculas)\n",
    "- Se pueden hacer pruebas de afiliacion para todas las estructuras de datos: Listas, Diccionarios, Sets y Tuplas\n",
    "- Se pueden hacer pruebas de afiliacion para Strings"
   ]
  },
  {
   "cell_type": "markdown",
   "id": "88604247-ec45-47b2-8814-d2705413e4bb",
   "metadata": {},
   "source": [
    "<h2 style = \"color:red\">Afiliacion: STRINGS</h2>"
   ]
  },
  {
   "cell_type": "code",
   "execution_count": 13,
   "id": "326dea33-0bf9-4f46-b9b6-afb4ae8929e9",
   "metadata": {},
   "outputs": [
    {
     "data": {
      "text/plain": [
       "True"
      ]
     },
     "execution_count": 13,
     "metadata": {},
     "output_type": "execute_result"
    }
   ],
   "source": [
    "#\n",
    "cadena = \"Condicion\"\n",
    "\"d\" in cadena"
   ]
  },
  {
   "cell_type": "code",
   "execution_count": 14,
   "id": "c355abda-98f2-4456-be8c-0caa8112fcf7",
   "metadata": {},
   "outputs": [
    {
     "data": {
      "text/plain": [
       "False"
      ]
     },
     "execution_count": 14,
     "metadata": {},
     "output_type": "execute_result"
    }
   ],
   "source": [
    "#\n",
    "cadena = \"Condicion\"\n",
    "\"z\" in cadena"
   ]
  },
  {
   "cell_type": "code",
   "execution_count": 15,
   "id": "37758c77-a53b-49d7-9fd4-1d15b4debc42",
   "metadata": {},
   "outputs": [
    {
     "data": {
      "text/plain": [
       "True"
      ]
     },
     "execution_count": 15,
     "metadata": {},
     "output_type": "execute_result"
    }
   ],
   "source": [
    "#\n",
    "cadena = \"Condicion\"\n",
    "\"dicion\" in cadena"
   ]
  },
  {
   "cell_type": "markdown",
   "id": "9c7a880d-1c21-49a4-a798-2c07716705d2",
   "metadata": {},
   "source": [
    "<h2 style = \"color:red\">Afiliacion: TUPLAS</h2>"
   ]
  },
  {
   "cell_type": "code",
   "execution_count": 16,
   "id": "68828ef9-3180-4379-842f-e6d21fb2935c",
   "metadata": {},
   "outputs": [
    {
     "data": {
      "text/plain": [
       "True"
      ]
     },
     "execution_count": 16,
     "metadata": {},
     "output_type": "execute_result"
    }
   ],
   "source": [
    "la_tupla = (\"a\", \"b\", \"c\")\n",
    "\n",
    "\"b\" in la_tupla"
   ]
  },
  {
   "cell_type": "markdown",
   "id": "2dcc55a4-b8f7-48e0-b76c-efcc3bfe1d8e",
   "metadata": {},
   "source": [
    "<h2 style = \"color:red\">Afiliacion: LISTAS</h2>"
   ]
  },
  {
   "cell_type": "code",
   "execution_count": 17,
   "id": "7764aa73-b59e-43a8-b7b6-31313a46735c",
   "metadata": {},
   "outputs": [
    {
     "data": {
      "text/plain": [
       "False"
      ]
     },
     "execution_count": 17,
     "metadata": {},
     "output_type": "execute_result"
    }
   ],
   "source": [
    "la_lista = [\"fresa\", \"manzana\", \"mango\"]\n",
    "\n",
    "\"sandia\" in la_lista"
   ]
  },
  {
   "cell_type": "markdown",
   "id": "648a6c7a-4a25-4f80-be3b-27816fe32ff7",
   "metadata": {},
   "source": [
    "<h2 style = \"color:red\">Afiliacion: DICCIONARIOS</h2>\n",
    "\n",
    "- Valida la existencia de las **KEYS** únicamente\n",
    "- Si quires validad existencia de Values, debes usar el metodo values()"
   ]
  },
  {
   "cell_type": "code",
   "execution_count": 19,
   "id": "4fd3f914-7270-4342-a017-6e5c469ca7b7",
   "metadata": {},
   "outputs": [
    {
     "data": {
      "text/plain": [
       "True"
      ]
     },
     "execution_count": 19,
     "metadata": {},
     "output_type": "execute_result"
    }
   ],
   "source": [
    "el_dict = { \"letra\":\"a\", \"numero\":\"5\", \"signo\":\"!!\"}\n",
    "\n",
    "\"signo\" in el_dict\n"
   ]
  },
  {
   "cell_type": "code",
   "execution_count": 22,
   "id": "7fda32e1-9a16-4425-a7f2-e85fac42a399",
   "metadata": {},
   "outputs": [
    {
     "data": {
      "text/plain": [
       "True"
      ]
     },
     "execution_count": 22,
     "metadata": {},
     "output_type": "execute_result"
    }
   ],
   "source": [
    "# Validar un Value\n",
    "\n",
    "el_dict = { \"letra\":\"a\", \"numero\":\"5\", \"signo\":\"!!\"}\n",
    "\n",
    "\"5\" in el_dict.values()"
   ]
  },
  {
   "cell_type": "code",
   "execution_count": null,
   "id": "8a7e70b8-b3a9-4d83-a508-f1b2d28cc788",
   "metadata": {},
   "outputs": [],
   "source": []
  },
  {
   "cell_type": "code",
   "execution_count": null,
   "id": "ad7b3f7e-2ce7-4c1c-bafa-ca376158dcfb",
   "metadata": {},
   "outputs": [],
   "source": []
  },
  {
   "cell_type": "code",
   "execution_count": null,
   "id": "580e9776-8923-4c05-8a42-916de7983e94",
   "metadata": {},
   "outputs": [],
   "source": []
  },
  {
   "cell_type": "code",
   "execution_count": null,
   "id": "0e1b6cf8-c942-47ac-a8aa-b29eea657b9a",
   "metadata": {},
   "outputs": [],
   "source": []
  }
 ],
 "metadata": {
  "kernelspec": {
   "display_name": "Python 3 (ipykernel)",
   "language": "python",
   "name": "python3"
  },
  "language_info": {
   "codemirror_mode": {
    "name": "ipython",
    "version": 3
   },
   "file_extension": ".py",
   "mimetype": "text/x-python",
   "name": "python",
   "nbconvert_exporter": "python",
   "pygments_lexer": "ipython3",
   "version": "3.11.5"
  }
 },
 "nbformat": 4,
 "nbformat_minor": 5
}
