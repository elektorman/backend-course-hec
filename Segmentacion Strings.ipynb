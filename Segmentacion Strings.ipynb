{
 "cells": [
  {
   "cell_type": "code",
   "execution_count": null,
   "id": "9a1b6347-95ac-4659-a88e-083570517b37",
   "metadata": {},
   "outputs": [],
   "source": []
  },
  {
   "cell_type": "markdown",
   "id": "963bf164-35b5-47c6-85a3-979ba9645a1a",
   "metadata": {},
   "source": [
    "<h1>Formato de Cadenas </h1>"
   ]
  },
  {
   "cell_type": "code",
   "execution_count": 2,
   "id": "12eb28ce-dd4b-480b-97cc-16a60714beda",
   "metadata": {},
   "outputs": [
    {
     "name": "stdout",
     "output_type": "stream",
     "text": [
      "Curso BackEnd Python\n"
     ]
    }
   ],
   "source": [
    "my_string_1 = \"Curso\"\n",
    "my_string_2 = \"BackEnd Python\"\n",
    "\n",
    "# Usando format\n",
    "print(\"{} {}\".format(my_string_1, my_string_2) )"
   ]
  },
  {
   "cell_type": "code",
   "execution_count": 9,
   "id": "16249b81-54c7-46cd-85f4-33f79023166d",
   "metadata": {},
   "outputs": [
    {
     "name": "stdout",
     "output_type": "stream",
     "text": [
      "1070\n",
      "80\n",
      "80\n"
     ]
    }
   ],
   "source": [
    "# Suma de numeros marcados como String\n",
    "my_string_1 = \"10\"\n",
    "my_string_2 = \"70\"\n",
    "\n",
    "# Opcion 1: eval() forma equivocada (hace concatenacion\n",
    "print( eval(my_string_1+my_string_2) )\n",
    "\n",
    "#Opcion 2: eval + format: forma correcta\n",
    "print( eval( \"{} + {}\".format(my_string_1, my_string_2) ) )\n",
    "\n",
    "#Opcion 3: conversion de tipos\n",
    "print( int(my_string_1) + int(my_string_2) )"
   ]
  },
  {
   "cell_type": "markdown",
   "id": "dc21cf7b-f186-475d-8ed4-71b4917109bf",
   "metadata": {},
   "source": [
    "<h1 style=\"color:red\">Funciones de Cadenas</h1>"
   ]
  },
  {
   "cell_type": "code",
   "execution_count": 11,
   "id": "fa3c76e8-65e7-4c7a-babb-28be048ab3ff",
   "metadata": {},
   "outputs": [
    {
     "name": "stdout",
     "output_type": "stream",
     "text": [
      "['El', 'curso', 'Backend', 'Python', 'de', 'EBAC,', 'te', 'lleva', 'de', 'la', 'mano', 'para', 'parender', 'a', 'programar']\n",
      "['El curso Backend Python de EBAC', ' te lleva de la mano para parender a programar']\n"
     ]
    }
   ],
   "source": [
    "# Funcion SPLIT\n",
    "\n",
    "my_string = \"El curso Backend Python de EBAC, te lleva de la mano para parender a programar\"\n",
    "\n",
    "resultado_1 = my_string.split()\n",
    "resultado_2 = my_string.split(\",\")\n",
    "\n",
    "print(resultado_1)\n",
    "print(resultado_2)"
   ]
  },
  {
   "cell_type": "code",
   "execution_count": 13,
   "id": "14f7b588-cf95-44fb-8393-f77f50c79737",
   "metadata": {},
   "outputs": [
    {
     "name": "stdout",
     "output_type": "stream",
     "text": [
      "date:  2022-09-28\n",
      "level:,  error\n",
      "mensaje:  Mensaje de error\n",
      "date:  2022-09-27\n",
      "level:,  warning\n",
      "mensaje:  Mensaje de ADVERTENCIA\n",
      "date:  2022-09-25\n",
      "level:,  info\n",
      "mensaje:  Mensaje informativo\n"
     ]
    }
   ],
   "source": [
    "mi_cadena = \"\"\"2022-09-28|error|Mensaje de error\n",
    "2022-09-27|warning|Mensaje de ADVERTENCIA\n",
    "2022-09-25|info|Mensaje informativo\"\"\"\n",
    "\n",
    "logs = mi_cadena.split(\"\\n\")\n",
    "for i in logs:\n",
    "    date, level, mess = i.split(\"|\")  #Se guardan en diferentes variables el resultado del split()\n",
    "    print(\"date: \", date)\n",
    "    print(\"level:, \", level)\n",
    "    print(\"mensaje: \", mess)\n"
   ]
  },
  {
   "cell_type": "markdown",
   "id": "45c8a6b5-f09c-4c80-ac68-f2d59c5cace9",
   "metadata": {},
   "source": [
    "<h3 style=\"color:blue\"><i>index / find</i></h3>\n",
    "\n",
    "- Busca la PRIMER posicion de la Subcadena solicitada"
   ]
  },
  {
   "cell_type": "code",
   "execution_count": 14,
   "id": "8d59e511-67cd-4b94-a2a3-34430c0d3eb9",
   "metadata": {},
   "outputs": [
    {
     "name": "stdout",
     "output_type": "stream",
     "text": [
      "PRIMER posicion de 'Pyhton' es:  17\n",
      "PRIMER posicion de 'Pyhton' es:  17\n"
     ]
    }
   ],
   "source": [
    "my_string = \"El curso Backend Python de EBAC, te lleva de la mano para parender a programar\"\n",
    "\n",
    "print(\"PRIMER posicion de 'Pyhton' es: \", my_string.index(\"Python\") )\n",
    "print(\"PRIMER posicion de 'Pyhton' es: \", my_string.find(\"Python\") )"
   ]
  },
  {
   "cell_type": "markdown",
   "id": "351e04aa-2d3e-4598-a826-3ce8311d0ddd",
   "metadata": {},
   "source": [
    "<h3 style=\"color:blue\"><i>count</i></h3>\n",
    "\n",
    "- CUENTA la cantidad de apariciones de la subcadena solicitada en la cadena completa"
   ]
  },
  {
   "cell_type": "code",
   "execution_count": 16,
   "id": "5704b34a-7c2e-44f1-9599-d597eb305a52",
   "metadata": {},
   "outputs": [
    {
     "name": "stdout",
     "output_type": "stream",
     "text": [
      "Cantidad de 'E' en la cadena:  2\n"
     ]
    }
   ],
   "source": [
    "my_string = \"El curso Backend Python de EBAC, te lleva de la mano para parender a programar\"\n",
    "\n",
    "print(\"Cantidad de 'E' en la cadena: \", my_string.count(\"E\"))\n"
   ]
  },
  {
   "cell_type": "code",
   "execution_count": 19,
   "id": "60a73f66-d462-4069-8c9c-0fa4329e4bab",
   "metadata": {},
   "outputs": [
    {
     "data": {
      "text/plain": [
       "78"
      ]
     },
     "execution_count": 19,
     "metadata": {},
     "output_type": "execute_result"
    }
   ],
   "source": [
    "my_string = \"El curso Backend Python de EBAC, te lleva de la mano para parender a programar\"\n",
    "\n",
    "len(my_string)"
   ]
  },
  {
   "cell_type": "markdown",
   "id": "fd03c57d-c991-4e73-bf28-511cc268f753",
   "metadata": {},
   "source": [
    "<h3 style=\"color:blue\"><i>join</i></h3>\n",
    "\n",
    "- Crea una sola Cadena de una lista, usando el separador especificado"
   ]
  },
  {
   "cell_type": "code",
   "execution_count": 21,
   "id": "2f2bd579-65da-477a-b9d8-699ff051644d",
   "metadata": {},
   "outputs": [
    {
     "name": "stdout",
     "output_type": "stream",
     "text": [
      "amigo|456|navidad|789|elote\n"
     ]
    }
   ],
   "source": [
    "lista = [\"amigo\", \"456\", \"navidad\", \"789\", \"elote\"]\n",
    "sep = \"|\"\n",
    "\n",
    "print( sep.join(lista) )"
   ]
  },
  {
   "cell_type": "markdown",
   "id": "d20f5e14-3099-4535-8ad2-8c4758ad2769",
   "metadata": {},
   "source": [
    "<h3 style=\"color:blue\"><i>format</i></h3>\n",
    "\n",
    "- Configura valores dentro de una cadena, la cual es nuestro molde\n",
    "- La idea es sutituir las llaves {} con un valor"
   ]
  },
  {
   "cell_type": "code",
   "execution_count": 22,
   "id": "3bb1f362-bfa2-4665-9dc2-f9aa29085d63",
   "metadata": {},
   "outputs": [
    {
     "name": "stdout",
     "output_type": "stream",
     "text": [
      "44 es le valor\n",
      "hola es le valor\n",
      "87654 es le valor\n"
     ]
    }
   ],
   "source": [
    "my_string = \"{} es le valor\"  # Se utiliza como Template\n",
    "\n",
    "print(my_string.format(\"44\") )\n",
    "print(my_string.format(\"hola\") )\n",
    "print(my_string.format(\"87654\") )\n"
   ]
  },
  {
   "cell_type": "code",
   "execution_count": 23,
   "id": "1f3dd15b-d8e9-4067-a2e1-cd9aaf9e9e72",
   "metadata": {},
   "outputs": [
    {
     "name": "stdout",
     "output_type": "stream",
     "text": [
      "año: 1998 hora: 12:49\n",
      "año: 2021 hora: 01:37\n",
      "año: 2023 hora: 04:44\n"
     ]
    }
   ],
   "source": [
    "my_string = \"año: {} hora: {}\"  # Se utiliza como Template\n",
    "\n",
    "print(my_string.format(\"1998\", \"12:49\") )\n",
    "print(my_string.format(\"2021\", \"01:37\") )\n",
    "print(my_string.format(\"2023\", \"04:44\") )"
   ]
  },
  {
   "cell_type": "code",
   "execution_count": 24,
   "id": "ed251da5-0e46-4d54-a2b6-845335908dfb",
   "metadata": {},
   "outputs": [
    {
     "name": "stdout",
     "output_type": "stream",
     "text": [
      "hora: 12:49 año: 1998\n",
      "hora: 01:37 año: 2021\n",
      "hora: 04:44 año: 2023\n"
     ]
    }
   ],
   "source": [
    "#Variante: Puedes especificar el ORDEN de los valores que pases, usando INDICES dentro de las llaves {}\n",
    "\n",
    "my_string = \"hora: {1} año: {0}\"  # Se utiliza como Template\n",
    "\n",
    "print(my_string.format(\"1998\", \"12:49\") )\n",
    "print(my_string.format(\"2021\", \"01:37\") )\n",
    "print(my_string.format(\"2023\", \"04:44\") )"
   ]
  },
  {
   "cell_type": "markdown",
   "id": "1a80c146-28fa-4ec9-9cab-21f0a4c8e9ab",
   "metadata": {},
   "source": [
    "<h1 style=\"color:red\"><i>Formato de Cadenas y Datetime</i></h1>"
   ]
  },
  {
   "cell_type": "code",
   "execution_count": 27,
   "id": "736d761f-ed1b-47ff-927f-cacec1f0aac9",
   "metadata": {},
   "outputs": [],
   "source": [
    "#A furzas se debe empezar con 'from' al importar modulos\n",
    "\n",
    "from datetime import datetime"
   ]
  },
  {
   "cell_type": "code",
   "execution_count": 28,
   "id": "2167ee39-85bf-48a2-ad3a-beaccd0fdb7a",
   "metadata": {},
   "outputs": [
    {
     "name": "stdout",
     "output_type": "stream",
     "text": [
      "2023-09-17 16:02:53.911814\n"
     ]
    }
   ],
   "source": [
    "now = datetime.now()\n",
    "\n",
    "print(now)"
   ]
  },
  {
   "cell_type": "code",
   "execution_count": 29,
   "id": "3a43e317-b10d-47c1-8c19-78258a546373",
   "metadata": {},
   "outputs": [
    {
     "name": "stdout",
     "output_type": "stream",
     "text": [
      "Año:  2023\n",
      "Mes:  09\n",
      "Dia:  17\n",
      "Hora:  16:02\n"
     ]
    }
   ],
   "source": [
    "# Extraer partes de un datetime: strftime()\n",
    "\n",
    "year = now.strftime(\"%Y\")  #%Y -> la parte de la fecha que nos interesa ('Y' Mayuscula)\n",
    "month = now.strftime(\"%m\")\n",
    "day = now.strftime(\"%d\")\n",
    "time = now.strftime(\"%H:%M\")\n",
    "\n",
    "print(\"Año: \", year)\n",
    "print(\"Mes: \", month)\n",
    "print(\"Dia: \", day)\n",
    "print(\"Hora: \", time)\n"
   ]
  },
  {
   "cell_type": "markdown",
   "id": "70e69e12-1ba3-462a-9f4a-82529fd4dee7",
   "metadata": {},
   "source": [
    "<h3 style=\"color:blue\"><i>Invertir una Cadena</i></h3>"
   ]
  },
  {
   "cell_type": "code",
   "execution_count": 30,
   "id": "b92597fd-8c9b-4c59-8136-fc52be0c2724",
   "metadata": {},
   "outputs": [
    {
     "name": "stdout",
     "output_type": "stream",
     "text": [
      "Analizador de sentimientos\n",
      "\n",
      "my_string:  Este es un product muy bueno, excelente, maravilloso \n",
      "score: 3 \n",
      "resultado: Positivo\n"
     ]
    }
   ],
   "source": [
    "my_string = \"\"\" Este es un product muy bueno, excelente, maravilloso \"\"\" \n",
    "positive_words = [\"bueno\", \"excelente\", \"maravilloso\"] \n",
    "negative_words = [\"defectuoso\", \"malo\", \"horrible\"] \n",
    "score = 0 \n",
    "\n",
    "for positive_word in positive_words:\n",
    "    score += my_string.count(positive_word)\n",
    "\n",
    "for negative_word in negative_words:    \n",
    "    score += my_string.count(negative_word)    \n",
    "\n",
    "if score == 0:\n",
    "    result = \"Neutro\"\n",
    "\n",
    "if score > 0:\n",
    "    result = \"Positivo\" \n",
    "\n",
    "if score < 0:\n",
    "    result = \"Negativo\"\n",
    "\n",
    "print(\"Analizador de sentimientos\\n\") \n",
    "print(\"my_string: {}\\nscore: {} \\nresultado: {}\".format(my_string, score, result))\n"
   ]
  },
  {
   "cell_type": "code",
   "execution_count": 33,
   "id": "10c979d9-1ba3-4247-9d1d-670c7f7042f0",
   "metadata": {},
   "outputs": [
    {
     "name": "stdout",
     "output_type": "stream",
     "text": [
      "Positive:  bueno\n",
      "Positive:  excelente\n",
      "Positive:  maravilloso\n",
      "Negative:  defectuoso\n",
      "Negative:  malo\n",
      "Negative:  horrible\n"
     ]
    }
   ],
   "source": [
    "my_string = \"\"\" Este es un product muy bueno, excelente, maravilloso \"\"\" \n",
    "positive_words = [\"bueno\", \"excelente\", \"maravilloso\"] \n",
    "negative_words = [\"defectuoso\", \"malo\", \"horrible\"] \n",
    "score = 0 \n",
    "\n",
    "for positive_word in positive_words:\n",
    "    score += my_string.count(positive_word)\n",
    "    print(\"Positive: \", positive_word)\n",
    "\n",
    "for negative_word in negative_words:    \n",
    "    score += my_string.count(negative_word)\n",
    "    print(\"Negative: \", negative_word)\n"
   ]
  },
  {
   "cell_type": "code",
   "execution_count": null,
   "id": "e2ef0994-ac9a-47c8-84fc-4ff6c538f16a",
   "metadata": {},
   "outputs": [],
   "source": []
  }
 ],
 "metadata": {
  "kernelspec": {
   "display_name": "Python 3 (ipykernel)",
   "language": "python",
   "name": "python3"
  },
  "language_info": {
   "codemirror_mode": {
    "name": "ipython",
    "version": 3
   },
   "file_extension": ".py",
   "mimetype": "text/x-python",
   "name": "python",
   "nbconvert_exporter": "python",
   "pygments_lexer": "ipython3",
   "version": "3.11.5"
  }
 },
 "nbformat": 4,
 "nbformat_minor": 5
}
