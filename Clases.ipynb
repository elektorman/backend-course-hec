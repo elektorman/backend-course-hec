{
 "cells": [
  {
   "cell_type": "markdown",
   "id": "bb63016e-e15c-4a84-b8ec-036b76ce6b56",
   "metadata": {},
   "source": [
    "<h2>CLASES</h2>\n",
    "\n",
    "- Podemos pensar en las clases como un 'Molde'. De tal forma que puedes usar ese mismo molde para cerar muchos objeto\n",
    "- Clase: Molde de Objetos"
   ]
  },
  {
   "cell_type": "code",
   "execution_count": 1,
   "id": "c1521d15-baf5-4037-9b1c-16ed0084add7",
   "metadata": {},
   "outputs": [],
   "source": [
    "class Car:\n",
    "    marca = \"Tesla\"\n",
    "    modelo = \"Model 3\"\n",
    "    year = \"2022\"\n",
    "\n",
    "    def encender():\n",
    "        pass\n",
    "\n",
    "    def apagar():\n",
    "        pass"
   ]
  },
  {
   "cell_type": "code",
   "execution_count": 2,
   "id": "130195c7-1809-4873-8dd9-7c6c8167ea80",
   "metadata": {},
   "outputs": [],
   "source": [
    "# objetos\n",
    "\n",
    "carro1 = Car()\n",
    "carro2 = Car()"
   ]
  },
  {
   "cell_type": "code",
   "execution_count": 4,
   "id": "c6152542-fd6d-49b6-8125-806a8c3660f1",
   "metadata": {},
   "outputs": [
    {
     "data": {
      "text/plain": [
       "['__class__',\n",
       " '__delattr__',\n",
       " '__dict__',\n",
       " '__dir__',\n",
       " '__doc__',\n",
       " '__eq__',\n",
       " '__format__',\n",
       " '__ge__',\n",
       " '__getattribute__',\n",
       " '__getstate__',\n",
       " '__gt__',\n",
       " '__hash__',\n",
       " '__init__',\n",
       " '__init_subclass__',\n",
       " '__le__',\n",
       " '__lt__',\n",
       " '__module__',\n",
       " '__ne__',\n",
       " '__new__',\n",
       " '__reduce__',\n",
       " '__reduce_ex__',\n",
       " '__repr__',\n",
       " '__setattr__',\n",
       " '__sizeof__',\n",
       " '__str__',\n",
       " '__subclasshook__',\n",
       " '__weakref__',\n",
       " 'apagar',\n",
       " 'encender',\n",
       " 'marca',\n",
       " 'modelo',\n",
       " 'year']"
      ]
     },
     "execution_count": 4,
     "metadata": {},
     "output_type": "execute_result"
    }
   ],
   "source": [
    "dir(carro1)"
   ]
  },
  {
   "cell_type": "markdown",
   "id": "acf317b8-484c-4306-b929-b89e6214aaa6",
   "metadata": {},
   "source": [
    "<h2>Crear Clases</h2>"
   ]
  },
  {
   "cell_type": "code",
   "execution_count": 1,
   "id": "696eac8d-cdd1-4575-8cf6-41683dc74b72",
   "metadata": {},
   "outputs": [],
   "source": [
    "# Definiendo Metodo de Inicializacion (Metodo CONSTRUCTOR)\n",
    "# El pimer parámetro que recibimos es la propia clase: self\n",
    "\n",
    "class Car:\n",
    "    def __init__(self, marca, model, year): #Constructor\n",
    "        self.marca = marca,\n",
    "        self.model = model,\n",
    "        self.year = year\n",
    "        print(\"Se cero una instancia de la clase\")\n",
    "\n",
    "\n",
    "    def print_attributes(self):\n",
    "        print(\"Marca: \", self.marca)\n",
    "        print(\"Model: \", self.model)\n",
    "        print(\"Year: \", self.year)\n"
   ]
  },
  {
   "cell_type": "code",
   "execution_count": 2,
   "id": "3664bd25-6732-45cc-8ca1-ae9d7dfe9817",
   "metadata": {},
   "outputs": [
    {
     "name": "stdout",
     "output_type": "stream",
     "text": [
      "Se cero una instancia de la clase\n"
     ]
    }
   ],
   "source": [
    "# Objetos\n",
    "\n",
    "carro1 = Car(\"Ford\", \"Fiesta\", \"2023\")\n"
   ]
  },
  {
   "cell_type": "code",
   "execution_count": 3,
   "id": "0e3a1ef1-2035-4a9c-b074-a037ba3a01c9",
   "metadata": {},
   "outputs": [
    {
     "name": "stdout",
     "output_type": "stream",
     "text": [
      "Marca:  ('Ford',)\n",
      "Model:  ('Fiesta',)\n",
      "Year:  2023\n"
     ]
    }
   ],
   "source": [
    "carro1.print_attributes()"
   ]
  },
  {
   "cell_type": "code",
   "execution_count": 5,
   "id": "8b3ee984-a74b-4f32-a2dd-3202189d6635",
   "metadata": {},
   "outputs": [
    {
     "name": "stdout",
     "output_type": "stream",
     "text": [
      "Se cero una instancia de la clase\n"
     ]
    }
   ],
   "source": [
    "carro2 = Car(\"Jeep\",\"Wrangler\",\"2022\")"
   ]
  },
  {
   "cell_type": "code",
   "execution_count": 6,
   "id": "0464d6fa-1c50-4736-a7e5-a864457d85ef",
   "metadata": {},
   "outputs": [
    {
     "name": "stdout",
     "output_type": "stream",
     "text": [
      "Marca:  ('Jeep',)\n",
      "Model:  ('Wrangler',)\n",
      "Year:  2022\n"
     ]
    }
   ],
   "source": [
    "carro2.print_attributes()"
   ]
  },
  {
   "cell_type": "markdown",
   "id": "9bd75930-c3de-4a49-b8d3-8190094908cc",
   "metadata": {},
   "source": [
    "<h2>Acceder a Atributos</h2>"
   ]
  },
  {
   "cell_type": "code",
   "execution_count": 7,
   "id": "24e7b3ff-0c36-4330-ab31-a7092422a68f",
   "metadata": {},
   "outputs": [
    {
     "data": {
      "text/plain": [
       "('Wrangler',)"
      ]
     },
     "execution_count": 7,
     "metadata": {},
     "output_type": "execute_result"
    }
   ],
   "source": [
    "carro2.model"
   ]
  },
  {
   "cell_type": "markdown",
   "id": "c21dbc0b-19b7-46aa-a97a-7113c3100ab0",
   "metadata": {},
   "source": [
    "<h2>Variables de Clase</h2>"
   ]
  },
  {
   "cell_type": "code",
   "execution_count": 8,
   "id": "03f9960f-81bb-4eab-ab91-2d419d1ac373",
   "metadata": {},
   "outputs": [],
   "source": [
    "class Auto:\n",
    "    opus = 0 # Esta en una variable\n",
    "\n",
    "    def __init__(self, marca, model, year): #Constructor\n",
    "        Auto.opus += 1 #Contador de autos creados\n",
    "        self.marca = marca,\n",
    "        self.model = model,\n",
    "        self.year = year\n",
    "        print(\"Se cero una instancia de la clase\")\n",
    "\n",
    "    def print_attributes(self):\n",
    "        print(\"Marca: \", self.marca)\n",
    "        print(\"Model: \", self.model)\n",
    "        print(\"Year: \", self.year)"
   ]
  },
  {
   "cell_type": "code",
   "execution_count": 9,
   "id": "ad7b750e-746d-48fd-bc6b-108dc550ee0d",
   "metadata": {},
   "outputs": [
    {
     "name": "stdout",
     "output_type": "stream",
     "text": [
      "Se cero una instancia de la clase\n",
      "Se cero una instancia de la clase\n"
     ]
    }
   ],
   "source": [
    "auto_1 = Auto(\"Tesla\",\"Model X\",\"2019\")\n",
    "auto_2 = Auto(\"Jeep\",\"Compass\",\"2022\")\n"
   ]
  },
  {
   "cell_type": "code",
   "execution_count": 11,
   "id": "0629b762-30af-4a12-9f26-e2447b94e59b",
   "metadata": {},
   "outputs": [
    {
     "name": "stdout",
     "output_type": "stream",
     "text": [
      "Hay 2 autos creados\n"
     ]
    }
   ],
   "source": [
    "print(f\"Hay {Auto.opus} autos creados\")"
   ]
  },
  {
   "cell_type": "markdown",
   "id": "9da14aae-c015-4044-bcd5-074490366787",
   "metadata": {},
   "source": [
    "<h2>Garbage Collection</h2>\n",
    "\n",
    "- Proceso de eliminacion de variables de clase"
   ]
  },
  {
   "cell_type": "code",
   "execution_count": 12,
   "id": "114b8a25-7763-4b4c-a758-5004cc50199b",
   "metadata": {},
   "outputs": [],
   "source": [
    "\n",
    "\n",
    "class Auto:\n",
    "    opus = 0 # Esta en una variable\n",
    "\n",
    "    def __init__(self, marca, model, year): #Constructor\n",
    "        Auto.opus += 1 #Contador de autos creados\n",
    "        self.marca = marca,\n",
    "        self.model = model,\n",
    "        self.year = year\n",
    "        print(\"Se cero una instancia de la clase\")\n",
    "\n",
    "    # Con este Metodo, llevaremos la cuenta cada vez que se destruya un Auto\n",
    "    def __del__(self):\n",
    "        Auto.opus -= 1\n",
    "\n",
    "    def print_attributes(self):\n",
    "        print(\"Marca: \", self.marca)\n",
    "        print(\"Model: \", self.model)\n",
    "        print(\"Year: \", self.year)\n"
   ]
  },
  {
   "cell_type": "code",
   "execution_count": 13,
   "id": "39ee85e3-87bf-4b67-a6a0-e26cbb6c34b2",
   "metadata": {},
   "outputs": [
    {
     "name": "stdout",
     "output_type": "stream",
     "text": [
      "Se cero una instancia de la clase\n",
      "Se cero una instancia de la clase\n",
      "Se cero una instancia de la clase\n"
     ]
    }
   ],
   "source": [
    "auto_1 = Auto(\"Tesla\",\"Model X\",\"2019\")\n",
    "auto_2 = Auto(\"Jeep\",\"Compass\",\"2022\")\n",
    "auto_3 = Auto(\"Ford\",\"Fiesta\",\"2018\")"
   ]
  },
  {
   "cell_type": "code",
   "execution_count": 14,
   "id": "9289a5fa-62ed-40dd-bf3a-09a2053c163b",
   "metadata": {},
   "outputs": [
    {
     "name": "stdout",
     "output_type": "stream",
     "text": [
      "Autos en existencia: 3\n"
     ]
    }
   ],
   "source": [
    "print(f\"Autos en existencia: {Auto.opus}\")"
   ]
  },
  {
   "cell_type": "code",
   "execution_count": 15,
   "id": "7195856d-a3e1-46c3-95e7-a65812ca3ad0",
   "metadata": {},
   "outputs": [],
   "source": [
    "# Eliminando un auto\n",
    "del auto_3"
   ]
  },
  {
   "cell_type": "code",
   "execution_count": 16,
   "id": "813d9420-f685-4c7c-9111-524105e7ade5",
   "metadata": {},
   "outputs": [
    {
     "name": "stdout",
     "output_type": "stream",
     "text": [
      "Autos en existencia: 2\n"
     ]
    }
   ],
   "source": [
    "print(f\"Autos en existencia: {Auto.opus}\")"
   ]
  },
  {
   "cell_type": "markdown",
   "id": "1211799e-6859-4448-a20c-cee445d385d6",
   "metadata": {},
   "source": [
    "<h2>Herencia</h2>"
   ]
  },
  {
   "cell_type": "code",
   "execution_count": 17,
   "id": "f61a9416-10bd-471c-8082-cef500739273",
   "metadata": {},
   "outputs": [],
   "source": [
    "# Usamos el prefijo 'super' porque vamos a usar esta clase como referencia para Otra clase\n",
    "# Esta clase es un Molde jerarquico de carros\n",
    "# CLASE PADRE\n",
    "\n",
    "class Auto:\n",
    "    super_attribute = \"Atributo de la super clase\"\n",
    "\n",
    "    def __init__(self):\n",
    "        print(\"Inicializacion de la super clase\")\n",
    "\n",
    "\n",
    "    def super_method(self):\n",
    "        print(\"Metodo de la super clase\")\n",
    "\n",
    "\n"
   ]
  },
  {
   "cell_type": "code",
   "execution_count": 18,
   "id": "c6b5a44b-fa42-4e67-a6d0-3143267373f7",
   "metadata": {},
   "outputs": [],
   "source": [
    "# Si quisieras definir otra clase similar a esta, simplemente inidcarlo en la nueva clase\n",
    "# Eso indica que la nueva clase HEREDA los atributos y metodos de la clase 'Auto'\n",
    "# Eso la convierte en una clase 'Hija'\n",
    "\n",
    "class AutoClasico(Auto): #Clase hija que hereda de clase 'Auto'\n",
    "    sub_attribute = \"Atributo de la SUB-CLASE\"\n",
    "\n",
    "    def __init__(self):\n",
    "        print(\"Inicializando la SUB-CLASE\")\n",
    "\n",
    "\n",
    "    def sub_method(self):\n",
    "        print(\"Metodo de SUB_CLASE\")"
   ]
  },
  {
   "cell_type": "code",
   "execution_count": 19,
   "id": "801c05ed-96d1-4e2e-b9ef-a4fd9aa85890",
   "metadata": {},
   "outputs": [
    {
     "name": "stdout",
     "output_type": "stream",
     "text": [
      "Inicializando la SUB-CLASE\n"
     ]
    }
   ],
   "source": [
    "# Nota que la clase AutoClasico NO tiene atributos definidos en su metodo constructor\n",
    "# Por tanto, este clase se invoca sin Parametros\n",
    "\n",
    "sub_auto = AutoClasico()"
   ]
  },
  {
   "cell_type": "code",
   "execution_count": 20,
   "id": "d262140b-4d9d-4cec-9037-f11d00442d52",
   "metadata": {},
   "outputs": [
    {
     "name": "stdout",
     "output_type": "stream",
     "text": [
      "Metodo de la super clase\n",
      "Metodo de SUB_CLASE\n"
     ]
    }
   ],
   "source": [
    "# Podemos llamar a metodos de la clase padre desde la clase hijo (porque los heredó)\n",
    "\n",
    "sub_auto.super_method()\n",
    "sub_auto.sub_method()"
   ]
  },
  {
   "cell_type": "markdown",
   "id": "a9bedae4-76b1-43f4-9153-84e656fd9f5e",
   "metadata": {},
   "source": [
    "<h2>Usar una sub clase como una SUPER CLASE</h2>"
   ]
  },
  {
   "cell_type": "code",
   "execution_count": 21,
   "id": "38c349df-cf08-47ba-9910-b787a3386fb4",
   "metadata": {},
   "outputs": [],
   "source": [
    "#Clase Padre/Abuelo\n",
    "\n",
    "class Auto:\n",
    "    super_attribute = \"Atributo de la super clase\"\n",
    "\n",
    "    def __init__(self):\n",
    "        print(\"Inicializacion de la super clase\")\n",
    "\n",
    "\n",
    "    def super_method(self):\n",
    "        print(\"Metodo de la super clase\")"
   ]
  },
  {
   "cell_type": "code",
   "execution_count": 22,
   "id": "51faf660-b292-4683-ae74-263305f39ee4",
   "metadata": {},
   "outputs": [],
   "source": [
    "# Clase Hija\n",
    "\n",
    "class AutoClasico(Auto):\n",
    "    sub_attribute = \"Atributo de la SUB-CLASE\"\n",
    "\n",
    "    def __init__(self):\n",
    "        print(\"Inicializando la SUB-CLASE\")\n",
    "\n",
    "\n",
    "    def sub_method(self):\n",
    "        print(\"Metodo de SUB_CLASE\")"
   ]
  },
  {
   "cell_type": "code",
   "execution_count": 23,
   "id": "cab8c5ab-924b-4f43-ab5c-85ce0a545288",
   "metadata": {},
   "outputs": [],
   "source": [
    "#Clase Nieta\n",
    "\n",
    "class SubAutoClasico(AutoClasico):\n",
    "    sub_sub_attribute = \"Atributo de la SUB-CLASE/Clase Nieta\"\n",
    "\n",
    "    def __init__(self):\n",
    "        print(\"Inicializando la SUB-CLASE/Clase Nieta\")\n",
    "\n",
    "\n",
    "    def sub_sub_method(self):\n",
    "        print(\"Metodo de SUB_CLASE/Clase Nieta\")"
   ]
  },
  {
   "cell_type": "code",
   "execution_count": 24,
   "id": "b22e473d-0aaf-4e2b-909c-f686e0f531e1",
   "metadata": {},
   "outputs": [
    {
     "name": "stdout",
     "output_type": "stream",
     "text": [
      "Inicializando la SUB-CLASE/Clase Nieta\n"
     ]
    }
   ],
   "source": [
    "sub_sub_auto = SubAutoClasico()"
   ]
  },
  {
   "cell_type": "code",
   "execution_count": 26,
   "id": "d09d9804-1cfd-4821-a264-ae0cd5d56b0a",
   "metadata": {},
   "outputs": [
    {
     "name": "stdout",
     "output_type": "stream",
     "text": [
      "Atributo de la super clase\n",
      "Metodo de SUB_CLASE\n",
      "Metodo de SUB_CLASE/Clase Nieta\n"
     ]
    }
   ],
   "source": [
    "print(sub_sub_auto.super_attribute)\n",
    "sub_sub_auto.sub_method()\n",
    "sub_sub_auto.sub_sub_method()"
   ]
  },
  {
   "cell_type": "code",
   "execution_count": null,
   "id": "37845a18-5e44-44a7-a751-270b4115edce",
   "metadata": {},
   "outputs": [],
   "source": []
  }
 ],
 "metadata": {
  "kernelspec": {
   "display_name": "Python 3 (ipykernel)",
   "language": "python",
   "name": "python3"
  },
  "language_info": {
   "codemirror_mode": {
    "name": "ipython",
    "version": 3
   },
   "file_extension": ".py",
   "mimetype": "text/x-python",
   "name": "python",
   "nbconvert_exporter": "python",
   "pygments_lexer": "ipython3",
   "version": "3.11.5"
  }
 },
 "nbformat": 4,
 "nbformat_minor": 5
}
