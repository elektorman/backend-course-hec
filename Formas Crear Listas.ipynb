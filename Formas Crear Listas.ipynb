{
 "cells": [
  {
   "cell_type": "code",
   "execution_count": 2,
   "id": "53b87a75-f861-4157-8d52-2f00cb215191",
   "metadata": {},
   "outputs": [
    {
     "data": {
      "text/plain": [
       "[3, 3, 3, 3, 3]"
      ]
     },
     "execution_count": 2,
     "metadata": {},
     "output_type": "execute_result"
    }
   ],
   "source": [
    "# 1\n",
    "\n",
    "lista = [3]*5\n",
    "lista"
   ]
  },
  {
   "cell_type": "code",
   "execution_count": 4,
   "id": "00fa447f-9750-4633-87d0-7f81b935a336",
   "metadata": {},
   "outputs": [
    {
     "data": {
      "text/plain": [
       "[0, 1, 2, 3, 4, 5, 6]"
      ]
     },
     "execution_count": 4,
     "metadata": {},
     "output_type": "execute_result"
    }
   ],
   "source": [
    "# 2\n",
    "lista = []\n",
    "for i in range(7):\n",
    "    lista.append(i)\n",
    "\n",
    "lista"
   ]
  },
  {
   "cell_type": "code",
   "execution_count": 11,
   "id": "6817cd31-d9e2-4e7c-bf5e-74f591baf91e",
   "metadata": {},
   "outputs": [
    {
     "data": {
      "text/plain": [
       "[0, 1, 2, 3, 4, 5, 6]"
      ]
     },
     "execution_count": 11,
     "metadata": {},
     "output_type": "execute_result"
    }
   ],
   "source": [
    "# 3\n",
    "lista = []\n",
    "for i in range(7):\n",
    "    lista += [i]  # lista = lista + [i]\n",
    "\n",
    "lista"
   ]
  },
  {
   "cell_type": "code",
   "execution_count": 10,
   "id": "43a785f2-2c99-40c7-9662-d7bb8bc21b5e",
   "metadata": {},
   "outputs": [
    {
     "data": {
      "text/plain": [
       "['a', 'b']"
      ]
     },
     "execution_count": 10,
     "metadata": {},
     "output_type": "execute_result"
    }
   ],
   "source": [
    "lista = [\"a\"]\n",
    "lista = lista + [\"b\"]\n",
    "\n",
    "lista"
   ]
  },
  {
   "cell_type": "code",
   "execution_count": 12,
   "id": "eaf88131-156f-4106-acea-97fb183cf52c",
   "metadata": {},
   "outputs": [
    {
     "data": {
      "text/plain": [
       "[0, 1, 2, 3, 4, 5, 6, 7]"
      ]
     },
     "execution_count": 12,
     "metadata": {},
     "output_type": "execute_result"
    }
   ],
   "source": [
    "# 4 - List complrehension\n",
    "\n",
    "lista = [ i for i in range(8)]\n",
    "lista"
   ]
  },
  {
   "cell_type": "markdown",
   "id": "eba7f255-645c-4d99-912f-659eaed3a02d",
   "metadata": {},
   "source": [
    "<h2 style = \"color: red\">Obtener Sublistas</h2>"
   ]
  },
  {
   "cell_type": "code",
   "execution_count": 13,
   "id": "fef06aa4-bf9b-4717-972d-48580ca053f9",
   "metadata": {},
   "outputs": [
    {
     "name": "stdout",
     "output_type": "stream",
     "text": [
      "[0, 1, 2, 3, 4, 5, 6, 7, 8, 9, 10, 11, 12, 13, 14, 15, 16, 17, 18, 19]\n",
      "[0, 1, 2, 3, 4, 5, 6, 7]\n"
     ]
    }
   ],
   "source": [
    "# Lista Original\n",
    "lista = [i for i in range(20)]\n",
    "print(lista)\n",
    "\n",
    "#Sublista\n",
    "sublista = lista[:8]\n",
    "print(sublista)\n"
   ]
  },
  {
   "cell_type": "markdown",
   "id": "6b0a3b78-5224-4def-9de5-240e8385cf48",
   "metadata": {},
   "source": [
    "<h2 style = \"color:red\">Crear listas con range() y Numpy</h2>"
   ]
  },
  {
   "cell_type": "code",
   "execution_count": 15,
   "id": "35633d2c-cdaa-4044-9971-051c7a880629",
   "metadata": {},
   "outputs": [
    {
     "data": {
      "text/plain": [
       "[1, 2, 3, 4, 5, 6, 7, 8, 9]"
      ]
     },
     "execution_count": 15,
     "metadata": {},
     "output_type": "execute_result"
    }
   ],
   "source": [
    "# El * permite acceder a los elementos del rango\n",
    "\n",
    "lista = [ *range(1, 10, 1)]\n",
    "lista"
   ]
  },
  {
   "cell_type": "code",
   "execution_count": 10,
   "id": "23bf6746-3fd3-45ef-9cab-3e7818c7514b",
   "metadata": {},
   "outputs": [
    {
     "name": "stdout",
     "output_type": "stream",
     "text": [
      "[ 1  2  3  4  5  6  7  8  9 10 11 12 13 14]\n",
      "<class 'numpy.ndarray'> \n",
      "\n",
      "[1, 2, 3, 4, 5, 6, 7, 8, 9, 10, 11, 12, 13, 14]\n",
      "<class 'list'>\n"
     ]
    }
   ],
   "source": [
    "# Funciones ´arange()´ y tolist() de Numpy\n",
    "# arange = array\n",
    "\n",
    "import numpy as np\n",
    "lista = np.arange(1,15,1)  #Aqui es un array\n",
    "print(lista)\n",
    "print(type(lista),\"\\n\")\n",
    "\n",
    "lista = np.arange(1,15,1).tolist()\n",
    "print(lista)\n",
    "print(type(lista))\n"
   ]
  },
  {
   "cell_type": "markdown",
   "id": "334b3313-e019-45cd-9f7b-f5bf16138fa8",
   "metadata": {},
   "source": [
    "<h2 style= \"color:red\">Listas Anidadas</h2>\n",
    "- Listas dentro de listas = Matrices"
   ]
  },
  {
   "cell_type": "code",
   "execution_count": 11,
   "id": "176039b5-58f5-469e-9d17-a65a8a2e1906",
   "metadata": {},
   "outputs": [
    {
     "data": {
      "text/plain": [
       "[[2, 4, 6], [1, 3, 5]]"
      ]
     },
     "execution_count": 11,
     "metadata": {},
     "output_type": "execute_result"
    }
   ],
   "source": [
    "lista = [ [2,4,6], [1,3,5] ]\n",
    "lista"
   ]
  },
  {
   "cell_type": "code",
   "execution_count": 12,
   "id": "7ad676b2-9355-4a7a-b075-4087e50f7046",
   "metadata": {},
   "outputs": [
    {
     "name": "stdout",
     "output_type": "stream",
     "text": [
      "[2, 4, 6]\n"
     ]
    }
   ],
   "source": [
    "print(lista[0])"
   ]
  },
  {
   "cell_type": "code",
   "execution_count": 13,
   "id": "c57b87b8-fdc4-4bb0-a73e-02aecde6f2a0",
   "metadata": {},
   "outputs": [
    {
     "name": "stdout",
     "output_type": "stream",
     "text": [
      "6\n"
     ]
    }
   ],
   "source": [
    "print( lista[0][2] )"
   ]
  },
  {
   "cell_type": "markdown",
   "id": "226cb244-b3d9-4b23-86ba-6dff567246eb",
   "metadata": {},
   "source": [
    "<h2 style = \"color:red\">Conversion de Listas</h2>"
   ]
  },
  {
   "cell_type": "code",
   "execution_count": 15,
   "id": "3517de87-f050-4422-b020-df3a82c28ff1",
   "metadata": {},
   "outputs": [
    {
     "data": {
      "text/plain": [
       "['Curso', 'de', 'Backend', 'Python']"
      ]
     },
     "execution_count": 15,
     "metadata": {},
     "output_type": "execute_result"
    }
   ],
   "source": [
    "# Separar palabras\n",
    "cadena = \"Curso de Backend Python\"\n",
    "\n",
    "lista = cadena.split()  #El separador por default es 'espacio'\n",
    "lista"
   ]
  },
  {
   "cell_type": "code",
   "execution_count": 16,
   "id": "8ac661f4-819e-48b6-b4f8-0b044f7ea44d",
   "metadata": {},
   "outputs": [
    {
     "data": {
      "text/plain": [
       "['C',\n",
       " 'u',\n",
       " 'r',\n",
       " 's',\n",
       " 'o',\n",
       " ' ',\n",
       " 'd',\n",
       " 'e',\n",
       " ' ',\n",
       " 'B',\n",
       " 'a',\n",
       " 'c',\n",
       " 'k',\n",
       " 'e',\n",
       " 'n',\n",
       " 'd',\n",
       " ' ',\n",
       " 'P',\n",
       " 'y',\n",
       " 't',\n",
       " 'h',\n",
       " 'o',\n",
       " 'n']"
      ]
     },
     "execution_count": 16,
     "metadata": {},
     "output_type": "execute_result"
    }
   ],
   "source": [
    "# Separar por Caracteres\n",
    "# Simplemente convertir a lista\n",
    "\n",
    "cadena = \"Curso de Backend Python\"\n",
    "lista = list(cadena)\n",
    "lista"
   ]
  },
  {
   "cell_type": "code",
   "execution_count": 17,
   "id": "0f699be8-ae12-4634-82a0-45574b31eb90",
   "metadata": {},
   "outputs": [
    {
     "data": {
      "text/plain": [
       "[['C'],\n",
       " ['u'],\n",
       " ['r'],\n",
       " ['s'],\n",
       " ['o'],\n",
       " [' '],\n",
       " ['d'],\n",
       " ['e'],\n",
       " [' '],\n",
       " ['B'],\n",
       " ['a'],\n",
       " ['c'],\n",
       " ['k'],\n",
       " ['e'],\n",
       " ['n'],\n",
       " ['d'],\n",
       " [' '],\n",
       " ['P'],\n",
       " ['y'],\n",
       " ['t'],\n",
       " ['h'],\n",
       " ['o'],\n",
       " ['n']]"
      ]
     },
     "execution_count": 17,
     "metadata": {},
     "output_type": "execute_result"
    }
   ],
   "source": [
    "# Separar caracteres en una Lista de Listas\n",
    "\n",
    "cadena = \"Curso de Backend Python\"\n",
    "lista = list( map(list, cadena) )\n",
    "lista"
   ]
  },
  {
   "cell_type": "code",
   "execution_count": 19,
   "id": "1da31481-4cf8-4848-97e0-8a102d36e821",
   "metadata": {},
   "outputs": [
    {
     "data": {
      "text/plain": [
       "'Bienvenido a Italia Tierra de Pizzas'"
      ]
     },
     "execution_count": 19,
     "metadata": {},
     "output_type": "execute_result"
    }
   ],
   "source": [
    "# Convertir LISTAS a CADENAS - Funcion join()\n",
    "# El JOIN se aplica sobre el separador deseado\n",
    "\n",
    "lista = [\"Bienvenido\", \"a\", \"Italia\", \"Tierra\", \"de\", \"Pizzas\"]\n",
    "cadena = \" \".join(lista)  #usamos 'espacio' como separador\n",
    "\n",
    "cadena"
   ]
  },
  {
   "cell_type": "code",
   "execution_count": 20,
   "id": "b428d8ac-b11f-4d32-b787-db474f3cf80d",
   "metadata": {},
   "outputs": [
    {
     "data": {
      "text/plain": [
       "'Curso de Backend Python'"
      ]
     },
     "execution_count": 20,
     "metadata": {},
     "output_type": "execute_result"
    }
   ],
   "source": [
    "# 2\n",
    "\n",
    "lista = ['C','u','r','s','o',' ','d','e',' ','B','a','c','k','e','n','d',' ','P','y','t','h','o','n']\n",
    "\n",
    "cadena = \"\".join(lista) #Los elementos de la lista no tienen espacios, asi que no se indica separador\n",
    "cadena\n"
   ]
  },
  {
   "cell_type": "code",
   "execution_count": 21,
   "id": "b416927d-fb6f-409d-b35d-e18d2eb95825",
   "metadata": {},
   "outputs": [
    {
     "data": {
      "text/plain": [
       "'Curso de Pyton'"
      ]
     },
     "execution_count": 21,
     "metadata": {},
     "output_type": "execute_result"
    }
   ],
   "source": [
    "# Lista de Listas a CADENA\n",
    "\n",
    "lista = [ [\"C\"], [\"u\"],[\"r\"],[\"s\"],[\"o\"],[\" \"],[\"d\"],[\"e\"],[\" \"],[\"P\"],[\"y\"],[\"t\"],[\"o\"],[\"n\"]]\n",
    "cadena = \"\".join( [\"\".join(i)  for i in lista] )\n",
    "\n",
    "cadena"
   ]
  },
  {
   "cell_type": "code",
   "execution_count": 26,
   "id": "b71b9818-b754-41ac-b701-15b7a7e47781",
   "metadata": {},
   "outputs": [
    {
     "name": "stdout",
     "output_type": "stream",
     "text": [
      "Lista Original:  [['C'], ['u'], ['r'], ['s'], ['o'], [' '], ['d'], ['e'], [' '], ['P'], ['y'], ['t'], ['o'], ['n']]\n",
      "Cadena interna ['C', 'u', 'r', 's', 'o', ' ', 'd', 'e', ' ', 'P', 'y', 't', 'o', 'n']\n",
      "Cadena Final Curso de Pyton\n"
     ]
    }
   ],
   "source": [
    "# Paso a paso del codiga anterior\n",
    "\n",
    "lista = [ [\"C\"], [\"u\"],[\"r\"],[\"s\"],[\"o\"],[\" \"],[\"d\"],[\"e\"],[\" \"],[\"P\"],[\"y\"],[\"t\"],[\"o\"],[\"n\"]]\n",
    "cadena_interna = [\"\".join(i)  for i in lista]  # Elimina la lista anidada\n",
    "\n",
    "print(\"Lista Original: \", lista)\n",
    "print(\"Cadena interna\", cadena_interna)\n",
    "\n",
    "cadena_final = \"\".join(cadena_interna)\n",
    "print(\"Cadena Final\", cadena_final)"
   ]
  },
  {
   "cell_type": "markdown",
   "id": "90c806d4-db2b-42f5-aa68-0ed5024c393c",
   "metadata": {},
   "source": [
    "<h2 style=\"color:red\">Insert()</h2>\n",
    "\n",
    "- Agrega un elemento en una posicion especifica\n",
    "- insert( indice, valor)"
   ]
  },
  {
   "cell_type": "code",
   "execution_count": 27,
   "id": "7ea042cd-bfa9-4942-b6f5-37e3e14a6802",
   "metadata": {},
   "outputs": [
    {
     "name": "stdout",
     "output_type": "stream",
     "text": [
      "['manzana', 'melon', 'sandia', 'mango']\n",
      "['manzana', 'melon', 'sandia', 'gato', 'mango']\n"
     ]
    }
   ],
   "source": [
    "#\n",
    "lista = [\"manzana\",\"melon\",\"sandia\",\"mango\"]\n",
    "print(lista)\n",
    "\n",
    "lista.insert(3, \"gato\")\n",
    "print(lista)"
   ]
  },
  {
   "cell_type": "markdown",
   "id": "10bd69ab-2919-4007-9558-6197f1684f83",
   "metadata": {},
   "source": [
    "<h2 style= \"color:red\">Clear</h2>\n",
    "\n",
    "- Elimina TODOS los elementos de una lista"
   ]
  },
  {
   "cell_type": "code",
   "execution_count": 28,
   "id": "b26571ed-952c-410a-ae79-f8ea982a6cf8",
   "metadata": {},
   "outputs": [
    {
     "name": "stdout",
     "output_type": "stream",
     "text": [
      "['manzana', 'melon', 'sandia', 'mango']\n",
      "[]\n"
     ]
    }
   ],
   "source": [
    "lista = [\"manzana\",\"melon\",\"sandia\",\"mango\"]\n",
    "print(lista)\n",
    "\n",
    "lista.clear()\n",
    "print(lista)"
   ]
  },
  {
   "cell_type": "markdown",
   "id": "31e274cd-b0b2-41e6-8ec1-9f36d9358834",
   "metadata": {},
   "source": [
    "<h2 style=\"color:red\">COPY()</h2>\n",
    "\n",
    "- Copia los elementos de una lista"
   ]
  },
  {
   "cell_type": "code",
   "execution_count": 29,
   "id": "d753d1df-8e14-4896-bd2c-8c09997390e9",
   "metadata": {},
   "outputs": [
    {
     "data": {
      "text/plain": [
       "['manzana', 'melon', 'sandia', 'mango']"
      ]
     },
     "execution_count": 29,
     "metadata": {},
     "output_type": "execute_result"
    }
   ],
   "source": [
    "lista = [\"manzana\",\"melon\",\"sandia\",\"mango\"]\n",
    "\n",
    "copia = lista.copy()\n",
    "copia"
   ]
  },
  {
   "cell_type": "markdown",
   "id": "94808e81-4f82-4734-87e4-32e8c95902d7",
   "metadata": {},
   "source": [
    "<h2 style=\"color:red\">EXTEND</h2>\n",
    "\n",
    "- Combina 2 listas"
   ]
  },
  {
   "cell_type": "code",
   "execution_count": 32,
   "id": "38c4d005-67ad-4de2-b3b6-96a020ac0a82",
   "metadata": {},
   "outputs": [
    {
     "name": "stdout",
     "output_type": "stream",
     "text": [
      "['manzana', 'melon', 'sandia', 'mango', 'perico', 'ballena', 'perro']\n"
     ]
    }
   ],
   "source": [
    "lista = [\"manzana\",\"melon\",\"sandia\",\"mango\"]\n",
    "lista_2 = [\"perico\", \"ballena\", \"perro\" ]\n",
    "\n",
    "lista.extend(lista_2)\n",
    "\n",
    "print(lista)"
   ]
  },
  {
   "cell_type": "markdown",
   "id": "803df4ef-b2be-42ff-9797-b9dfdeb780e2",
   "metadata": {},
   "source": [
    "<h2 style=\"color:red\">Elemento Aleatorio</h2>"
   ]
  },
  {
   "cell_type": "code",
   "execution_count": 33,
   "id": "cb89e5ed-0e24-4e76-909b-feee52aeebf6",
   "metadata": {},
   "outputs": [],
   "source": [
    "# Necesitamos el modulo random\n",
    "\n",
    "import random"
   ]
  },
  {
   "cell_type": "code",
   "execution_count": 34,
   "id": "fc95daad-2f37-44c4-8bae-c4b4dba8d674",
   "metadata": {},
   "outputs": [
    {
     "name": "stdout",
     "output_type": "stream",
     "text": [
      "sandia\n"
     ]
    }
   ],
   "source": [
    "lista = [\"manzana\",\"melon\",\"sandia\",\"mango\"]\n",
    "\n",
    "print( random.choice(lista) )\n"
   ]
  },
  {
   "cell_type": "code",
   "execution_count": null,
   "id": "229dc184-4f16-4cd1-86c2-99b170735152",
   "metadata": {},
   "outputs": [],
   "source": []
  },
  {
   "cell_type": "code",
   "execution_count": null,
   "id": "6a767f6f-81e0-4dcb-b76d-e3459d9e9d34",
   "metadata": {},
   "outputs": [],
   "source": []
  }
 ],
 "metadata": {
  "kernelspec": {
   "display_name": "Python 3 (ipykernel)",
   "language": "python",
   "name": "python3"
  },
  "language_info": {
   "codemirror_mode": {
    "name": "ipython",
    "version": 3
   },
   "file_extension": ".py",
   "mimetype": "text/x-python",
   "name": "python",
   "nbconvert_exporter": "python",
   "pygments_lexer": "ipython3",
   "version": "3.11.5"
  }
 },
 "nbformat": 4,
 "nbformat_minor": 5
}
